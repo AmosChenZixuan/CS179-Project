{
 "cells": [
  {
   "cell_type": "code",
   "execution_count": 1,
   "metadata": {},
   "outputs": [],
   "source": [
    "import numpy as np\n",
    "import pystan\n",
    "import matplotlib.pyplot as plt\n",
    "import random\n",
    "import time\n",
    "%matplotlib inline"
   ]
  },
  {
   "cell_type": "code",
   "execution_count": 2,
   "metadata": {},
   "outputs": [],
   "source": [
    "def logit(z): return 1./(1.+np.exp(-z))"
   ]
  },
  {
   "cell_type": "code",
   "execution_count": 3,
   "metadata": {},
   "outputs": [],
   "source": [
    "def generate_players(num_of_players, skill_cap):\n",
    "    ## returns a list of player's skill\n",
    "    return [round(random.uniform(0,skill_cap),2) for i in range(num_of_players)]\n",
    "\n",
    "\n",
    "def generate_games(players, num_of_games, scale=0.3, style='pystan'):\n",
    "\n",
    "    if style == 'pystan':\n",
    "        \n",
    "        player1=[]\n",
    "        player2=[]\n",
    "        outcome=[]\n",
    "        for i in range(num_of_games):\n",
    "            p1,p2 = random.sample(range(len(players)),2)\n",
    "            win_rate=logit(scale*(players[p1]-players[p2]) )\n",
    "\n",
    "            ##pystan player id is ONE based\n",
    "            player1.append(p1+1)\n",
    "            player2.append(p2+1)\n",
    "            \n",
    "            outcome.append(*random.choices([1,0],weights=[win_rate,1-win_rate]))\n",
    "\n",
    "        return np.array([player1,player2,outcome])\n",
    "    \n",
    "    elif style == 'pygm':\n",
    "        games=[]\n",
    "        for i in range(num_of_games):\n",
    "            p1,p2 = random.sample(range(len(players)),2)\n",
    "            win_rate=logit(scale*(players[p1]-players[p2]) )\n",
    "            \n",
    "            games.append((p1,p2,*random.choices([1,-1],weights=[win_rate,1-win_rate])))\n",
    "        return games\n",
    "    \n",
    "    assert False \n"
   ]
  },
  {
   "cell_type": "code",
   "execution_count": 4,
   "metadata": {},
   "outputs": [],
   "source": [
    "def prediction_accuracy(skill_data, samples, true_players, num_valid_game=1000, scale=0.3):\n",
    "    \n",
    "    valid_games = generate_games(true_players, num_valid_game, scale, style='pystan')\n",
    "\n",
    "    acc=0\n",
    "    for g in range(num_valid_game):\n",
    "        i,j,result=valid_games[0][g],valid_games[1][g],valid_games[2][g]\n",
    "\n",
    "        prediction = logit( skill_data['scale']*(samples['skill'][:,i-1]-samples['skill'][:,j-1]) ).mean()\n",
    "\n",
    "        acc+= int( (prediction >= 0.5 and result==1) or (prediction<0.5 and result==0) )\n",
    "    return acc/num_valid_game\n",
    "\n",
    "def prediction_accuracy_2(skill_data, samples, valid_data, scale=0.3):\n",
    "    \n",
    "    #valid_games = generate_games(true_players, num_valid_game, scale, style='pystan')\n",
    "\n",
    "    acc=0\n",
    "    for g in range(valid_data.shape[1]):\n",
    "        p1,p2,result=valid_data[0][g],valid_data[1][g],valid_data[2][g]\n",
    "\n",
    "        win_rate = logit( skill_data['scale']*(samples['skill'][:,p1-1]-samples['skill'][:,p2-1]) ).mean()\n",
    "        \n",
    "        predict_result = random.choices([1,0],weights=[win_rate,1-win_rate])\n",
    "\n",
    "        if predict_result == result:\n",
    "            acc += 1\n",
    "    return acc/valid_data.shape[1]"
   ]
  },
  {
   "cell_type": "code",
   "execution_count": 5,
   "metadata": {},
   "outputs": [],
   "source": [
    "skill_model = \"\"\"\n",
    "data {\n",
    "  int<lower=1> N;             # Total number of players\n",
    "  int<lower=1> E;             # number of games\n",
    "  real<lower=0> scale;        # scale value for probability computation\n",
    "  int<lower=0,upper=1> win[E]; # PA wins vs PB\n",
    "  int PA[E];                  # player info between each game\n",
    "  int PB[E];                  # \n",
    "}\n",
    "parameters {\n",
    "  vector [N] skill;           # skill values for each player\n",
    "}\n",
    "\n",
    "model{\n",
    "  for (i in 1:N){ skill[i]~normal(30,10); }\n",
    "  for (i in 1:E){\n",
    "    win[i] ~ bernoulli_logit( (scale)*(skill[PA[i]]-skill[PB[i]]) );\n",
    "  }   # win probability is a logit function of skill difference\n",
    "}\n",
    "\"\"\""
   ]
  },
  {
   "cell_type": "markdown",
   "metadata": {},
   "source": [
    "Now, compile the model.  We'll save a version of it so we don't have to recompile every time."
   ]
  },
  {
   "cell_type": "code",
   "execution_count": 6,
   "metadata": {},
   "outputs": [],
   "source": [
    "import pickle\n",
    "try:     # load it if already compiled\n",
    "    sm = pickle.load(open('skill_model1.pkl', 'rb'))\n",
    "except:  # ow, compile and save compiled model\n",
    "    sm = pystan.StanModel(model_code = skill_model)\n",
    "    with open('skill_model1.pkl', 'wb') as f: pickle.dump(sm, f)"
   ]
  },
  {
   "cell_type": "markdown",
   "metadata": {},
   "source": [
    "We also need the observed data: number of players and games, which pairs played each game, and who won:"
   ]
  },
  {
   "cell_type": "markdown",
   "metadata": {},
   "source": [
    "Now, we can perform MCMC on the model, and extract the samples:"
   ]
  },
  {
   "cell_type": "markdown",
   "metadata": {},
   "source": [
    "If we just want the mean estimate for each player's skill level, just take the empirical average over the samples:"
   ]
  },
  {
   "cell_type": "code",
   "execution_count": 7,
   "metadata": {},
   "outputs": [],
   "source": [
    "def run_data(nplayer):\n",
    "    scale=0.5\n",
    "    num_of_players=nplayer\n",
    "    result={}\n",
    "    #Generate games \n",
    "    print(\"start generating\")\n",
    "    Data = []\n",
    "    for trials in range(10):\n",
    "        p = generate_players(num_of_players,62)\n",
    "        games = generate_games(p,3000, scale, style='pystan')#####\n",
    "        games_pool = games[:,:2500]\n",
    "        valid_games = games[:,2500:]\n",
    "        Data.append((p,games_pool,valid_games))\n",
    "\n",
    "\n",
    "    for num_of_games in [3,5,10,20,35,50,70,100,500,700,1000,2500]:\n",
    "        starting_num_of_games=time.time()\n",
    "        trials_result=[]\n",
    "        print(\"starting num_of_games =\",num_of_games)\n",
    "        for trials in range(10):\n",
    "            true_players = Data[trials][0]\n",
    "\n",
    "            train_games = Data[trials][1][:,:num_of_games]\n",
    "            print(\"true skills:\",true_players)\n",
    "            skill_data = {\n",
    "                'N': num_of_players,\n",
    "                'E': num_of_games,\n",
    "                'scale': scale,###\n",
    "                'win':train_games[2],\n",
    "                'PA': train_games[0],\n",
    "                'PB': train_games[1]\n",
    "            }\n",
    "            starting=time.time()\n",
    "            fit = sm.sampling(data=skill_data, iter=10000, chains=4)####\n",
    "            print(\"spent:\",round(time.time()-starting,3))\n",
    "            samples = fit.extract()\n",
    "            print(\"predicted skills:\",samples['skill'].mean(0))\n",
    "            acc=prediction_accuracy_2(skill_data,samples,Data[trials][2])\n",
    "            print(\"acc:\",acc,\"\\n\")\n",
    "            trials_result.append(acc)\n",
    "\n",
    "        result[num_of_games]=trials_result\n",
    "        print(\"Complete\",num_of_games,\"| Spent:\",round(time.time()-starting_num_of_games,2))\n",
    "    return result\n"
   ]
  },
  {
   "cell_type": "code",
   "execution_count": null,
   "metadata": {
    "scrolled": false
   },
   "outputs": [
    {
     "name": "stdout",
     "output_type": "stream",
     "text": [
      "start generating\n",
      "starting num_of_games = 3\n",
      "true skills: [16.65, 44.8, 1.59, 13.54, 5.56, 29.52, 19.35, 41.93, 40.35, 0.26]\n",
      "spent: 4.131\n",
      "predicted skills: [-0.87943392 -0.10913899 -9.88994578 -0.03618851  0.06419384 -0.08265177\n",
      "  3.5415869   0.08002298  7.40721078 -0.09435305]\n",
      "acc: 0.552 \n",
      "\n",
      "true skills: [44.26, 5.57, 31.01, 45.42, 26.48, 52.36, 9.85, 3.21, 55.85, 13.49]\n",
      "spent: 4.042\n",
      "predicted skills: [ 4.08908771 -0.12489625 -8.44665652  0.02366913 -0.02615031  4.15238532\n",
      " -5.39222319 -0.022146   -0.11525346  5.34861229]\n",
      "acc: 0.534 \n",
      "\n",
      "true skills: [46.25, 35.9, 21.49, 26.03, 55.42, 26.56, 24.43, 30.08, 40.61, 13.54]\n",
      "spent: 4.569\n",
      "predicted skills: [-0.0614572   7.2918374   0.10209446 -7.40315325  0.02582106 -0.05920128\n",
      " -0.04185611 -4.61473571  4.52195094 -0.03207088]\n",
      "acc: 0.57 \n",
      "\n",
      "true skills: [27.89, 55.59, 43.18, 27.96, 49.23, 35.62, 35.36, 38.65, 34.29, 34.65]\n",
      "spent: 3.581\n",
      "predicted skills: [-4.07201667  5.39194931  0.00971492 -5.6026024  -0.06621304 -4.11316105\n",
      "  8.47653674  0.01456547 -0.03587205  0.00956898]\n",
      "acc: 0.586 \n",
      "\n",
      "true skills: [16.33, 45.02, 50.14, 21.22, 10.84, 2.97, 52.43, 31.88, 23.19, 13.54]\n",
      "spent: 4.547\n",
      "predicted skills: [-4.21718237e+00  5.56342737e+00 -4.46269260e-03  1.48073443e-01\n",
      "  6.99784903e-02 -5.50105483e+00  8.64672859e-02  1.19529362e-01\n",
      "  8.35063066e+00 -4.20648182e+00]\n",
      "acc: 0.572 \n",
      "\n",
      "true skills: [2.86, 20.18, 50.55, 30.7, 7.03, 4.52, 20.84, 58.3, 31.85, 26.75]\n",
      "spent: 3.721\n",
      "predicted skills: [-0.17663954  0.00998361 -4.15680306 -5.64047673 -4.10938611 -0.02265267\n",
      " -0.01446791  8.36846556  5.34348089 -0.10385932]\n",
      "acc: 0.548 \n",
      "\n",
      "true skills: [11.35, 29.92, 27.66, 43.23, 50.37, 7.24, 38.3, 27.3, 46.64, 6.3]\n",
      "spent: 3.438\n",
      "predicted skills: [ -0.08856008   0.09376519   0.06152842   0.04056186   3.44769579\n",
      "  -0.07644761   7.45752637  -1.0297251   -0.15668054 -10.04993759]\n",
      "acc: 0.622 \n",
      "\n",
      "true skills: [27.79, 12.89, 7.52, 50.91, 40.56, 49.06, 49.99, 23.64, 34.98, 57.23]\n",
      "spent: 3.189\n",
      "predicted skills: [ -0.01683192   3.48257611 -10.28592769   0.05142536   3.38840131\n",
      "   0.02861785  -0.06299516   0.04747471  -0.02111105   3.45501075]\n",
      "acc: 0.546 \n",
      "\n",
      "true skills: [56.38, 11.61, 19.05, 22.16, 6.89, 1.19, 55.03, 39.26, 27.49, 56.24]\n",
      "spent: 3.31\n",
      "predicted skills: [ 4.04259418e+00  1.46198712e-01 -5.41099662e+00  5.43384206e+00\n",
      " -8.39069268e+00 -7.66140845e-02  4.19855798e+00  4.55433035e-02\n",
      "  4.22915563e-03 -5.49841468e-02]\n",
      "acc: 0.6 \n",
      "\n",
      "true skills: [21.42, 57.43, 29.87, 35.21, 38.07, 20.02, 0.02, 43.6, 60.96, 61.74]\n"
     ]
    }
   ],
   "source": [
    "result1 = run_data(10)"
   ]
  },
  {
   "cell_type": "code",
   "execution_count": null,
   "metadata": {},
   "outputs": [],
   "source": [
    "def plot_result(d):\n",
    "    \n",
    "    M = np.array([d[k] for k in d])\n",
    "    x = np.array([k for k in d])\n",
    "    y = np.mean(M, axis = 1)\n",
    "    ystd = scipy.stats.sem(M, axis = 1)\n",
    "  \n",
    "    \n",
    "    plt.figure()\n",
    "    plt.scatter(x, y, color = 'black')\n",
    "    plt.errorbar(x, y, yerr = ystd, color = 'black', capsize = 5)\n",
    "    plt.show()\n",
    "    \n",
    "plot_result(result)"
   ]
  },
  {
   "cell_type": "code",
   "execution_count": null,
   "metadata": {},
   "outputs": [],
   "source": []
  }
 ],
 "metadata": {
  "kernelspec": {
   "display_name": "Python 3",
   "language": "python",
   "name": "python3"
  },
  "language_info": {
   "codemirror_mode": {
    "name": "ipython",
    "version": 3
   },
   "file_extension": ".py",
   "mimetype": "text/x-python",
   "name": "python",
   "nbconvert_exporter": "python",
   "pygments_lexer": "ipython3",
   "version": "3.7.4"
  }
 },
 "nbformat": 4,
 "nbformat_minor": 2
}
