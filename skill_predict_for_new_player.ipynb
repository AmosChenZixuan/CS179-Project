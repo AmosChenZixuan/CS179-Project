{
 "cells": [
  {
   "cell_type": "code",
   "execution_count": 1,
   "metadata": {},
   "outputs": [],
   "source": [
    "import numpy as np\n",
    "import pandas as pd\n",
    "import pystan\n",
    "import matplotlib.pyplot as plt\n",
    "import random\n",
    "import time\n",
    "%matplotlib inline"
   ]
  },
  {
   "cell_type": "code",
   "execution_count": 2,
   "metadata": {},
   "outputs": [],
   "source": [
    "def logit(z): return 1./(1.+np.exp(-z))"
   ]
  },
  {
   "cell_type": "code",
   "execution_count": 3,
   "metadata": {},
   "outputs": [],
   "source": [
    "def generate_players(num_of_players, skill_cap):\n",
    "    ## returns a list of player's skill\n",
    "    return [round(random.uniform(0,skill_cap),2) for i in range(num_of_players)]"
   ]
  },
  {
   "cell_type": "code",
   "execution_count": 4,
   "metadata": {},
   "outputs": [],
   "source": [
    "def generate_games_for_new_player(true_players, new_player, num_of_games,scale, style='pygm'):\n",
    "    p1_list=[]\n",
    "    p2_list=[]\n",
    "    win_list=[]\n",
    "    for i in range(num_of_games):\n",
    "        p1 = len(true_players)+1\n",
    "        p2 = random.sample(range(1,len(true_players)+1),1)[0]\n",
    "        win_rate = logit (scale* (new_player- true_players[p2-1]))\n",
    "        \n",
    "        p1_list.append(p1)\n",
    "        p2_list.append(p2)\n",
    "        win_list.append(*random.choices([1,0],weights=[win_rate, 1-win_rate]))\n",
    "#         games.append((p1,p2,*random.choices([1,-1],weights=[win_rate, 1-win_rate])))\n",
    "\n",
    "    return p1_list, p2_list, win_list"
   ]
  },
  {
   "cell_type": "code",
   "execution_count": 34,
   "metadata": {},
   "outputs": [],
   "source": [
    "def create_skill_model(skills):\n",
    "    model = \"\"\"\n",
    "data {\n",
    "  int<lower=1> N;             # Total number of players\n",
    "  int<lower=1> E;             # number of games\n",
    "  real<lower=0> scale;        # scale value for probability computation\n",
    "  int<lower=0,upper=1> win[E]; # PA wins vs PB\n",
    "  int PA[E];                  # player info between each game\n",
    "  int PB[E];                  # \n",
    "}\n",
    "parameters {\n",
    "  vector [N] skill;           # skill values for each player\n",
    "}\n",
    "\n",
    "model{\n",
    "\"\"\"\n",
    "    for i in range(1, len(skills)+1):\n",
    "        model += f\"skill[{i}]~normal({skills[i-1]}, 3);\\n\"\n",
    "    model += f\"skill[{len(skills)+1}]~normal(25,10);\\n\"\n",
    "    model += \"\"\"for (i in 1:E){ \n",
    "    win[i] ~ bernoulli_logit( (scale)*(skill[PA[i]]-skill[PB[i]]) ); \n",
    "  }   # win probability is a logit function of skill difference \n",
    "}\"\"\"\n",
    "    return model"
   ]
  },
  {
   "cell_type": "code",
   "execution_count": 6,
   "metadata": {},
   "outputs": [],
   "source": [
    "true_players=generate_players(10,50)\n",
    "skill_model = create_skill_model(true_players)"
   ]
  },
  {
   "cell_type": "code",
   "execution_count": 7,
   "metadata": {},
   "outputs": [
    {
     "name": "stderr",
     "output_type": "stream",
     "text": [
      "INFO:pystan:COMPILING THE C++ CODE FOR MODEL anon_model_f7da18d307891872d2855febe1643eb0 NOW.\n"
     ]
    }
   ],
   "source": [
    "import pickle\n",
    "\n",
    "sm = pystan.StanModel(model_code = skill_model)\n",
    "#with open('skill_model_test.pkl', 'wb') as f: pickle.dump(sm, f)"
   ]
  },
  {
   "cell_type": "code",
   "execution_count": 8,
   "metadata": {},
   "outputs": [
    {
     "data": {
      "text/plain": [
       "'\\ndata {\\n  int<lower=1> N;             # Total number of players\\n  int<lower=1> E;             # number of games\\n  real<lower=0> scale;        # scale value for probability computation\\n  int<lower=0,upper=1> win[E]; # PA wins vs PB\\n  int PA[E];                  # player info between each game\\n  int PB[E];                  # \\n}\\nparameters {\\n  vector [N] skill;           # skill values for each player\\n}\\n\\nmodel{\\nskill[1]~normal(41.21, 3);\\nskill[2]~normal(12.9, 3);\\nskill[3]~normal(2.34, 3);\\nskill[4]~normal(10.09, 3);\\nskill[5]~normal(21.78, 3);\\nskill[6]~normal(12.11, 3);\\nskill[7]~normal(3.1, 3);\\nskill[8]~normal(2.81, 3);\\nskill[9]~normal(23.5, 3);\\nskill[10]~normal(2.44, 3);\\nskill[11]~normal(25,8);\\nfor (i in 1:E){ \\n    win[i] ~ bernoulli_logit( (scale)*(skill[PA[i]]-skill[PB[i]]) ); \\n  }   # win probability is a logit function of skill difference \\n}'"
      ]
     },
     "execution_count": 8,
     "metadata": {},
     "output_type": "execute_result"
    }
   ],
   "source": [
    "skill_model"
   ]
  },
  {
   "cell_type": "code",
   "execution_count": 9,
   "metadata": {},
   "outputs": [],
   "source": [
    "new_player = round(random.uniform(0,50),2)"
   ]
  },
  {
   "cell_type": "code",
   "execution_count": 10,
   "metadata": {},
   "outputs": [],
   "source": [
    "num_of_games = 20\n",
    "scale = 0.5\n",
    "p1_list,p2_list,win_list = generate_games_for_new_player(true_players, new_player, num_of_games,scale )"
   ]
  },
  {
   "cell_type": "code",
   "execution_count": 11,
   "metadata": {},
   "outputs": [
    {
     "data": {
      "text/plain": [
       "[11,\n",
       " 11,\n",
       " 11,\n",
       " 11,\n",
       " 11,\n",
       " 11,\n",
       " 11,\n",
       " 11,\n",
       " 11,\n",
       " 11,\n",
       " 11,\n",
       " 11,\n",
       " 11,\n",
       " 11,\n",
       " 11,\n",
       " 11,\n",
       " 11,\n",
       " 11,\n",
       " 11,\n",
       " 11]"
      ]
     },
     "execution_count": 11,
     "metadata": {},
     "output_type": "execute_result"
    }
   ],
   "source": [
    "len(p1_list), len(p2_list)"
   ]
  },
  {
   "cell_type": "code",
   "execution_count": 13,
   "metadata": {},
   "outputs": [
    {
     "data": {
      "text/plain": [
       "[1, 1, 1, 1, 1, 1, 1, 1, 1, 1, 1, 1, 1, 1, 1, 1, 1, 1, 1, 1]"
      ]
     },
     "execution_count": 13,
     "metadata": {},
     "output_type": "execute_result"
    }
   ],
   "source": [
    "win_list"
   ]
  },
  {
   "cell_type": "code",
   "execution_count": 14,
   "metadata": {},
   "outputs": [],
   "source": [
    "skill_data = {\n",
    "    'N': len(true_players) + 1,\n",
    "    'E': num_of_games,\n",
    "    'scale': 0.5,\n",
    "    'win':win_list,\n",
    "    'PA': p1_list,\n",
    "    'PB': p2_list,\n",
    "}"
   ]
  },
  {
   "cell_type": "code",
   "execution_count": 15,
   "metadata": {},
   "outputs": [],
   "source": [
    "fit = sm.sampling(data=skill_data, iter=200, chains=2)"
   ]
  },
  {
   "cell_type": "code",
   "execution_count": 16,
   "metadata": {},
   "outputs": [],
   "source": [
    "samples = fit.extract()"
   ]
  },
  {
   "cell_type": "code",
   "execution_count": 21,
   "metadata": {},
   "outputs": [
    {
     "data": {
      "text/plain": [
       "array([38.92907177, 12.85365802,  2.6025486 , 10.30073679, 21.92964736,\n",
       "       12.1198313 ,  3.08185213,  2.85486205, 23.56666353,  2.30696619,\n",
       "       42.16616524])"
      ]
     },
     "execution_count": 21,
     "metadata": {},
     "output_type": "execute_result"
    }
   ],
   "source": [
    "samples['skill'].mean(0)"
   ]
  },
  {
   "cell_type": "code",
   "execution_count": 18,
   "metadata": {},
   "outputs": [
    {
     "data": {
      "text/plain": [
       "[41.21, 12.9, 2.34, 10.09, 21.78, 12.11, 3.1, 2.81, 23.5, 2.44]"
      ]
     },
     "execution_count": 18,
     "metadata": {},
     "output_type": "execute_result"
    }
   ],
   "source": [
    "true_players"
   ]
  },
  {
   "cell_type": "code",
   "execution_count": 19,
   "metadata": {},
   "outputs": [
    {
     "data": {
      "text/plain": [
       "46.05"
      ]
     },
     "execution_count": 19,
     "metadata": {},
     "output_type": "execute_result"
    }
   ],
   "source": [
    "new_player"
   ]
  },
  {
   "cell_type": "markdown",
   "metadata": {},
   "source": [
    "# Compare"
   ]
  },
  {
   "cell_type": "code",
   "execution_count": 39,
   "metadata": {},
   "outputs": [],
   "source": [
    "def compare_ngames(n_games_range, iter = 10, n_players = 10, skill_cap = 50, scale = 0.5):\n",
    "    true_players=generate_players(n_players, skill_cap)\n",
    "    skill_model = create_skill_model(true_players)\n",
    "    sm = pystan.StanModel(model_code = skill_model)\n",
    "    \n",
    "    new_player = round(random.uniform(0,skill_cap),2)\n",
    "    print(true_players)\n",
    "    \n",
    "    for num_of_games in n_games_range:\n",
    "        print(num_of_games, new_player)\n",
    "        diffs = []\n",
    "        for _ in range(iter):\n",
    "            p1_list,p2_list,win_list = generate_games_for_new_player(true_players, new_player, num_of_games, scale)\n",
    "            skill_data = {\n",
    "                'N': len(true_players) + 1,\n",
    "                'E': num_of_games,\n",
    "                'scale': 0.5,\n",
    "                'win':win_list,\n",
    "                'PA': p1_list,\n",
    "                'PB': p2_list,\n",
    "            }\n",
    "            fit = sm.sampling(data=skill_data, iter=200, chains=2)\n",
    "            samples = fit.extract()\n",
    "\n",
    "            pred = samples['skill'].mean(0)[-1]\n",
    "            diff = abs(pred - new_player)\n",
    "            print(f'pred:{pred}, diff:{diff}')\n",
    "            \n",
    "            diffs.append(diff)\n",
    "        print('mean:',np.mean(diffs), '\\n')"
   ]
  },
  {
   "cell_type": "code",
   "execution_count": 40,
   "metadata": {},
   "outputs": [
    {
     "name": "stderr",
     "output_type": "stream",
     "text": [
      "INFO:pystan:COMPILING THE C++ CODE FOR MODEL anon_model_9b5d79c472fcd46e0a353ce994ee6ad8 NOW.\n"
     ]
    },
    {
     "name": "stdout",
     "output_type": "stream",
     "text": [
      "[36.54, 24.87, 10.17, 3.37, 34.44, 0.47, 9.94, 37.15, 2.69, 20.81, 34.62, 41.91, 22.74, 41.15, 37.76, 4.34, 18.01, 13.1, 1.41, 40.09, 48.63, 33.23, 36.27, 29.19, 41.82, 19.75, 37.34, 17.52, 43.87, 16.92, 19.12, 26.54, 24.35, 9.96, 14.88, 13.83, 0.86, 18.49, 27.94, 14.48, 38.46, 3.67, 48.65, 4.69, 34.8, 21.41, 38.47, 9.22, 30.46, 41.85]\n",
      "10 18.23\n",
      "pred:22.59091218571879, diff:4.360912185718789\n",
      "pred:17.02768716442382, diff:1.2023128355761799\n",
      "pred:21.4038245280466, diff:3.173824528046598\n"
     ]
    },
    {
     "name": "stderr",
     "output_type": "stream",
     "text": [
      "WARNING:pystan:n_eff / iter below 0.001 indicates that the effective sample size has likely been overestimated\n"
     ]
    },
    {
     "name": "stdout",
     "output_type": "stream",
     "text": [
      "pred:21.26818002839691, diff:3.0381800283969085\n",
      "pred:15.938826909461486, diff:2.291173090538514\n",
      "pred:20.67565835740111, diff:2.4456583574011113\n",
      "pred:16.65771313307297, diff:1.5722868669270298\n",
      "pred:21.18737435082392, diff:2.957374350823919\n"
     ]
    },
    {
     "name": "stderr",
     "output_type": "stream",
     "text": [
      "WARNING:pystan:n_eff / iter below 0.001 indicates that the effective sample size has likely been overestimated\n"
     ]
    },
    {
     "name": "stdout",
     "output_type": "stream",
     "text": [
      "pred:23.670805523694018, diff:5.440805523694017\n",
      "pred:17.53078744093261, diff:0.6992125590673908\n",
      "pred:18.931345207725148, diff:0.7013452077251472\n",
      "pred:16.69980492274071, diff:1.5301950772592896\n",
      "pred:21.50450552551607, diff:3.2745055255160693\n",
      "pred:20.27616965545208, diff:2.046169655452079\n",
      "pred:16.791062034515303, diff:1.4389379654846977\n",
      "pred:15.841174441345562, diff:2.388825558654439\n",
      "pred:17.488237061046902, diff:0.741762938953098\n"
     ]
    },
    {
     "name": "stderr",
     "output_type": "stream",
     "text": [
      "WARNING:pystan:n_eff / iter below 0.001 indicates that the effective sample size has likely been overestimated\n"
     ]
    },
    {
     "name": "stdout",
     "output_type": "stream",
     "text": [
      "pred:14.238555708236726, diff:3.9914442917632744\n"
     ]
    },
    {
     "name": "stderr",
     "output_type": "stream",
     "text": [
      "WARNING:pystan:n_eff / iter below 0.001 indicates that the effective sample size has likely been overestimated\n"
     ]
    },
    {
     "name": "stdout",
     "output_type": "stream",
     "text": [
      "pred:19.110609180278406, diff:0.8806091802784053\n",
      "pred:16.456315977548922, diff:1.7736840224510786\n",
      "mean: 2.297460987486402 \n",
      "\n",
      "30 18.23\n",
      "pred:18.531200952552194, diff:0.30120095255219326\n",
      "pred:21.996057342945914, diff:3.7660573429459134\n",
      "pred:17.355998123024243, diff:0.8740018769757576\n",
      "pred:15.448480505449673, diff:2.781519494550327\n",
      "pred:18.526320363417554, diff:0.2963203634175535\n",
      "pred:18.75638309003554, diff:0.5263830900355408\n",
      "pred:17.49085345242916, diff:0.7391465475708401\n",
      "pred:20.128158056996238, diff:1.8981580569962375\n",
      "pred:21.741720247559982, diff:3.511720247559982\n",
      "pred:23.060894577866076, diff:4.830894577866076\n",
      "pred:19.250700683044567, diff:1.0207006830445664\n",
      "pred:19.66776444662911, diff:1.4377644466291102\n",
      "pred:17.97019989664768, diff:0.25980010335231896\n",
      "pred:21.551003299492294, diff:3.3210032994922933\n",
      "pred:19.354229552969755, diff:1.124229552969755\n",
      "pred:18.775760759029442, diff:0.5457607590294415\n",
      "pred:17.48421270440282, diff:0.7457872955971787\n",
      "pred:19.817506782876816, diff:1.5875067828768152\n",
      "pred:19.769925130354427, diff:1.5399251303544261\n",
      "pred:17.650101251965943, diff:0.5798987480340578\n",
      "mean: 1.5843889675925191 \n",
      "\n",
      "50 18.23\n",
      "pred:17.59686307420251, diff:0.6331369257974906\n",
      "pred:20.943526833008427, diff:2.7135268330084266\n",
      "pred:18.479392881290792, diff:0.24939288129079173\n",
      "pred:18.31682368123128, diff:0.08682368123128015\n",
      "pred:17.920809380800804, diff:0.309190619199196\n",
      "pred:18.65712677921041, diff:0.4271267792104112\n",
      "pred:17.14875161209579, diff:1.0812483879042105\n",
      "pred:18.872471492000486, diff:0.6424714920004853\n",
      "pred:18.484051136799724, diff:0.254051136799724\n",
      "pred:17.198589434207666, diff:1.031410565792335\n",
      "pred:18.421527202129557, diff:0.19152720212955643\n",
      "pred:18.487054025844643, diff:0.2570540258446421\n",
      "pred:20.904277972382033, diff:2.6742779723820327\n",
      "pred:17.060190177913736, diff:1.1698098220862647\n",
      "pred:19.558820061201406, diff:1.3288200612014052\n",
      "pred:21.588761734291328, diff:3.3587617342913276\n",
      "pred:17.808307849868577, diff:0.4216921501314239\n",
      "pred:15.353267019367463, diff:2.8767329806325375\n",
      "pred:18.396589899779293, diff:0.16658989977929295\n",
      "pred:19.457817839346404, diff:1.2278178393464039\n",
      "mean: 1.055073149502962 \n",
      "\n",
      "100 18.23\n",
      "pred:20.50613825255474, diff:2.276138252554741\n",
      "pred:19.367340623783317, diff:1.1373406237833166\n",
      "pred:17.43531166956619, diff:0.7946883304338108\n",
      "pred:18.295048565432683, diff:0.06504856543268289\n",
      "pred:17.16804738818441, diff:1.0619526118155918\n",
      "pred:19.62171766665689, diff:1.3917176666568913\n",
      "pred:21.589285694179853, diff:3.359285694179853\n"
     ]
    },
    {
     "name": "stderr",
     "output_type": "stream",
     "text": [
      "WARNING:pystan:n_eff / iter below 0.001 indicates that the effective sample size has likely been overestimated\n"
     ]
    },
    {
     "name": "stdout",
     "output_type": "stream",
     "text": [
      "pred:18.824558061694017, diff:0.5945580616940163\n",
      "pred:18.716422086258632, diff:0.4864220862586315\n",
      "pred:14.93073229048322, diff:3.29926770951678\n"
     ]
    },
    {
     "name": "stderr",
     "output_type": "stream",
     "text": [
      "WARNING:pystan:n_eff / iter below 0.001 indicates that the effective sample size has likely been overestimated\n"
     ]
    },
    {
     "name": "stdout",
     "output_type": "stream",
     "text": [
      "pred:17.617225967830823, diff:0.6127740321691775\n"
     ]
    },
    {
     "name": "stderr",
     "output_type": "stream",
     "text": [
      "WARNING:pystan:n_eff / iter below 0.001 indicates that the effective sample size has likely been overestimated\n"
     ]
    },
    {
     "name": "stdout",
     "output_type": "stream",
     "text": [
      "pred:17.165686708689663, diff:1.064313291310338\n",
      "pred:17.807527521351908, diff:0.4224724786480927\n"
     ]
    },
    {
     "name": "stderr",
     "output_type": "stream",
     "text": [
      "WARNING:pystan:n_eff / iter below 0.001 indicates that the effective sample size has likely been overestimated\n"
     ]
    },
    {
     "name": "stdout",
     "output_type": "stream",
     "text": [
      "pred:18.046942217071237, diff:0.1830577829287634\n"
     ]
    },
    {
     "name": "stderr",
     "output_type": "stream",
     "text": [
      "WARNING:pystan:n_eff / iter below 0.001 indicates that the effective sample size has likely been overestimated\n"
     ]
    },
    {
     "name": "stdout",
     "output_type": "stream",
     "text": [
      "pred:19.048167608800924, diff:0.8181676088009233\n",
      "pred:18.167745203935013, diff:0.062254796064987517\n",
      "pred:17.664673321478105, diff:0.5653266785218953\n"
     ]
    },
    {
     "name": "stderr",
     "output_type": "stream",
     "text": [
      "WARNING:pystan:n_eff / iter below 0.001 indicates that the effective sample size has likely been overestimated\n"
     ]
    },
    {
     "name": "stdout",
     "output_type": "stream",
     "text": [
      "pred:17.787897998939226, diff:0.4421020010607748\n"
     ]
    },
    {
     "name": "stderr",
     "output_type": "stream",
     "text": [
      "WARNING:pystan:n_eff / iter below 0.001 indicates that the effective sample size has likely been overestimated\n"
     ]
    },
    {
     "name": "stdout",
     "output_type": "stream",
     "text": [
      "pred:18.191028389850928, diff:0.03897161014907269\n",
      "pred:18.011550331487147, diff:0.21844966851285363\n",
      "mean: 0.9447154775246597 \n",
      "\n"
     ]
    }
   ],
   "source": [
    "compare_ngames([10,30,50,100], iter = 20, n_players = 50, skill_cap = 50)"
   ]
  },
  {
   "cell_type": "code",
   "execution_count": null,
   "metadata": {},
   "outputs": [],
   "source": []
  }
 ],
 "metadata": {
  "kernelspec": {
   "display_name": "Python 3",
   "language": "python",
   "name": "python3"
  },
  "language_info": {
   "codemirror_mode": {
    "name": "ipython",
    "version": 3
   },
   "file_extension": ".py",
   "mimetype": "text/x-python",
   "name": "python",
   "nbconvert_exporter": "python",
   "pygments_lexer": "ipython3",
   "version": "3.7.3"
  }
 },
 "nbformat": 4,
 "nbformat_minor": 4
}
