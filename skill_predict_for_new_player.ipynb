{
 "cells": [
  {
   "cell_type": "code",
   "execution_count": 1,
   "metadata": {},
   "outputs": [],
   "source": [
    "import numpy as np\n",
    "import pandas as pd\n",
    "import pystan\n",
    "import matplotlib.pyplot as plt\n",
    "import random\n",
    "import time\n",
    "%matplotlib inline"
   ]
  },
  {
   "cell_type": "code",
   "execution_count": 2,
   "metadata": {},
   "outputs": [],
   "source": [
    "def logit(z): return 1./(1.+np.exp(-z))"
   ]
  },
  {
   "cell_type": "code",
   "execution_count": 3,
   "metadata": {},
   "outputs": [],
   "source": [
    "def generate_players(num_of_players, skill_cap):\n",
    "    ## returns a list of player's skill\n",
    "    return [round(random.uniform(0,skill_cap),2) for i in range(num_of_players)]"
   ]
  },
  {
   "cell_type": "code",
   "execution_count": 4,
   "metadata": {},
   "outputs": [],
   "source": [
    "def generate_games_for_new_player(true_players, new_player, num_of_games,scale, style='pygm'):\n",
    "    p1_list=[]\n",
    "    p2_list=[]\n",
    "    win_list=[]\n",
    "    for i in range(num_of_games):\n",
    "        p1 = len(true_players)+1\n",
    "        p2 = random.sample(range(1,len(true_players)+1),1)[0]\n",
    "        win_rate = logit (scale* (new_player- true_players[p2-1]))\n",
    "        \n",
    "        p1_list.append(p1)\n",
    "        p2_list.append(p2)\n",
    "        win_list.append(*random.choices([1,0],weights=[win_rate, 1-win_rate]))\n",
    "#         games.append((p1,p2,*random.choices([1,-1],weights=[win_rate, 1-win_rate])))\n",
    "\n",
    "    return p1_list, p2_list, win_list"
   ]
  },
  {
   "cell_type": "code",
   "execution_count": 34,
   "metadata": {},
   "outputs": [],
   "source": [
    "def create_skill_model(skills):\n",
    "    model = \"\"\"\n",
    "data {\n",
    "  int<lower=1> N;             # Total number of players\n",
    "  int<lower=1> E;             # number of games\n",
    "  real<lower=0> scale;        # scale value for probability computation\n",
    "  int<lower=0,upper=1> win[E]; # PA wins vs PB\n",
    "  int PA[E];                  # player info between each game\n",
    "  int PB[E];                  # \n",
    "}\n",
    "parameters {\n",
    "  vector [N] skill;           # skill values for each player\n",
    "}\n",
    "\n",
    "model{\n",
    "\"\"\"\n",
    "    for i in range(1, len(skills)+1):\n",
    "        model += f\"skill[{i}]~normal({skills[i-1]}, 3);\\n\"\n",
    "    model += f\"skill[{len(skills)+1}]~normal(25,10);\\n\"\n",
    "    model += \"\"\"for (i in 1:E){ \n",
    "    win[i] ~ bernoulli_logit( (scale)*(skill[PA[i]]-skill[PB[i]]) ); \n",
    "  }   # win probability is a logit function of skill difference \n",
    "}\"\"\"\n",
    "    return model"
   ]
  },
  {
   "cell_type": "code",
   "execution_count": 6,
   "metadata": {},
   "outputs": [],
   "source": [
    "true_players=generate_players(10,50)\n",
    "skill_model = create_skill_model(true_players)"
   ]
  },
  {
   "cell_type": "code",
   "execution_count": 7,
   "metadata": {},
   "outputs": [
    {
     "name": "stderr",
     "output_type": "stream",
     "text": [
      "INFO:pystan:COMPILING THE C++ CODE FOR MODEL anon_model_f7da18d307891872d2855febe1643eb0 NOW.\n"
     ]
    }
   ],
   "source": [
    "import pickle\n",
    "\n",
    "sm = pystan.StanModel(model_code = skill_model)\n",
    "#with open('skill_model_test.pkl', 'wb') as f: pickle.dump(sm, f)"
   ]
  },
  {
   "cell_type": "code",
   "execution_count": 8,
   "metadata": {},
   "outputs": [
    {
     "data": {
      "text/plain": [
       "'\\ndata {\\n  int<lower=1> N;             # Total number of players\\n  int<lower=1> E;             # number of games\\n  real<lower=0> scale;        # scale value for probability computation\\n  int<lower=0,upper=1> win[E]; # PA wins vs PB\\n  int PA[E];                  # player info between each game\\n  int PB[E];                  # \\n}\\nparameters {\\n  vector [N] skill;           # skill values for each player\\n}\\n\\nmodel{\\nskill[1]~normal(41.21, 3);\\nskill[2]~normal(12.9, 3);\\nskill[3]~normal(2.34, 3);\\nskill[4]~normal(10.09, 3);\\nskill[5]~normal(21.78, 3);\\nskill[6]~normal(12.11, 3);\\nskill[7]~normal(3.1, 3);\\nskill[8]~normal(2.81, 3);\\nskill[9]~normal(23.5, 3);\\nskill[10]~normal(2.44, 3);\\nskill[11]~normal(25,8);\\nfor (i in 1:E){ \\n    win[i] ~ bernoulli_logit( (scale)*(skill[PA[i]]-skill[PB[i]]) ); \\n  }   # win probability is a logit function of skill difference \\n}'"
      ]
     },
     "execution_count": 8,
     "metadata": {},
     "output_type": "execute_result"
    }
   ],
   "source": [
    "skill_model"
   ]
  },
  {
   "cell_type": "code",
   "execution_count": 9,
   "metadata": {},
   "outputs": [],
   "source": [
    "new_player = round(random.uniform(0,50),2)"
   ]
  },
  {
   "cell_type": "code",
   "execution_count": 10,
   "metadata": {},
   "outputs": [],
   "source": [
    "num_of_games = 20\n",
    "scale = 0.5\n",
    "p1_list,p2_list,win_list = generate_games_for_new_player(true_players, new_player, num_of_games,scale )"
   ]
  },
  {
   "cell_type": "code",
   "execution_count": 11,
   "metadata": {},
   "outputs": [
    {
     "data": {
      "text/plain": [
       "[11,\n",
       " 11,\n",
       " 11,\n",
       " 11,\n",
       " 11,\n",
       " 11,\n",
       " 11,\n",
       " 11,\n",
       " 11,\n",
       " 11,\n",
       " 11,\n",
       " 11,\n",
       " 11,\n",
       " 11,\n",
       " 11,\n",
       " 11,\n",
       " 11,\n",
       " 11,\n",
       " 11,\n",
       " 11]"
      ]
     },
     "execution_count": 11,
     "metadata": {},
     "output_type": "execute_result"
    }
   ],
   "source": [
    "len(p1_list), len(p2_list)"
   ]
  },
  {
   "cell_type": "code",
   "execution_count": 13,
   "metadata": {},
   "outputs": [
    {
     "data": {
      "text/plain": [
       "[1, 1, 1, 1, 1, 1, 1, 1, 1, 1, 1, 1, 1, 1, 1, 1, 1, 1, 1, 1]"
      ]
     },
     "execution_count": 13,
     "metadata": {},
     "output_type": "execute_result"
    }
   ],
   "source": [
    "win_list"
   ]
  },
  {
   "cell_type": "code",
   "execution_count": 14,
   "metadata": {},
   "outputs": [],
   "source": [
    "skill_data = {\n",
    "    'N': len(true_players) + 1,\n",
    "    'E': num_of_games,\n",
    "    'scale': 0.5,\n",
    "    'win':win_list,\n",
    "    'PA': p1_list,\n",
    "    'PB': p2_list,\n",
    "}"
   ]
  },
  {
   "cell_type": "code",
   "execution_count": 15,
   "metadata": {},
   "outputs": [],
   "source": [
    "fit = sm.sampling(data=skill_data, iter=200, chains=2)"
   ]
  },
  {
   "cell_type": "code",
   "execution_count": 16,
   "metadata": {},
   "outputs": [],
   "source": [
    "samples = fit.extract()"
   ]
  },
  {
   "cell_type": "code",
   "execution_count": 21,
   "metadata": {},
   "outputs": [
    {
     "data": {
      "text/plain": [
       "array([38.92907177, 12.85365802,  2.6025486 , 10.30073679, 21.92964736,\n",
       "       12.1198313 ,  3.08185213,  2.85486205, 23.56666353,  2.30696619,\n",
       "       42.16616524])"
      ]
     },
     "execution_count": 21,
     "metadata": {},
     "output_type": "execute_result"
    }
   ],
   "source": [
    "samples['skill'].mean(0)"
   ]
  },
  {
   "cell_type": "code",
   "execution_count": 18,
   "metadata": {},
   "outputs": [
    {
     "data": {
      "text/plain": [
       "[41.21, 12.9, 2.34, 10.09, 21.78, 12.11, 3.1, 2.81, 23.5, 2.44]"
      ]
     },
     "execution_count": 18,
     "metadata": {},
     "output_type": "execute_result"
    }
   ],
   "source": [
    "true_players"
   ]
  },
  {
   "cell_type": "code",
   "execution_count": 19,
   "metadata": {},
   "outputs": [
    {
     "data": {
      "text/plain": [
       "46.05"
      ]
     },
     "execution_count": 19,
     "metadata": {},
     "output_type": "execute_result"
    }
   ],
   "source": [
    "new_player"
   ]
  },
  {
   "cell_type": "markdown",
   "metadata": {},
   "source": [
    "# Compare"
   ]
  },
  {
   "cell_type": "code",
   "execution_count": 1,
   "metadata": {},
   "outputs": [],
   "source": [
    "import numpy as np\n",
    "import pandas as pd\n",
    "import pystan\n",
    "import matplotlib.pyplot as plt\n",
    "import random\n",
    "import time\n",
    "%matplotlib inline\n",
    "import pickle"
   ]
  },
  {
   "cell_type": "code",
   "execution_count": 2,
   "metadata": {},
   "outputs": [],
   "source": [
    "def logit(z): return 1./(1.+np.exp(-z))\n",
    "\n",
    "def generate_players(num_of_players, skill_cap):\n",
    "    ## returns a list of player's skill\n",
    "    return [round(random.uniform(0,skill_cap),2) for i in range(num_of_players)]\n",
    "\n",
    "def generate_games_for_new_player(true_players, new_player, num_of_games,scale, style='pygm'):\n",
    "    p1_list=[]\n",
    "    p2_list=[]\n",
    "    win_list=[]\n",
    "    for i in range(num_of_games):\n",
    "        p1 = len(true_players)+1\n",
    "        p2 = random.sample(range(1,len(true_players)+1),1)[0]\n",
    "        win_rate = logit (scale* (new_player- true_players[p2-1]))\n",
    "        \n",
    "        p1_list.append(p1)\n",
    "        p2_list.append(p2)\n",
    "        win_list.append(*random.choices([1,0],weights=[win_rate, 1-win_rate]))\n",
    "#         games.append((p1,p2,*random.choices([1,-1],weights=[win_rate, 1-win_rate])))\n",
    "\n",
    "    return p1_list, p2_list, win_list"
   ]
  },
  {
   "cell_type": "code",
   "execution_count": 3,
   "metadata": {},
   "outputs": [],
   "source": [
    "def create_skill_model(skills, mean, std, fixed_std = 3):\n",
    "    model = \"\"\"\n",
    "data {\n",
    "  int<lower=1> N;             # Total number of players\n",
    "  int<lower=1> E;             # number of games\n",
    "  real<lower=0> scale;        # scale value for probability computation\n",
    "  int<lower=0,upper=1> win[E]; # PA wins vs PB\n",
    "  int PA[E];                  # player info between each game\n",
    "  int PB[E];                  # \n",
    "}\n",
    "parameters {\n",
    "  vector [N] skill;           # skill values for each player\n",
    "}\n",
    "\n",
    "model{\n",
    "\"\"\"\n",
    "    for i in range(1, len(skills)+1):\n",
    "        model += f\"skill[{i}]~normal({skills[i-1]}, {fixed_std});\\n\"\n",
    "    model += f\"skill[{len(skills)+1}]~normal({mean},{std});\\n\"\n",
    "    model += \"\"\"for (i in 1:E){ \n",
    "    win[i] ~ bernoulli_logit( (scale)*(skill[PA[i]]-skill[PB[i]]) ); \n",
    "  }   # win probability is a logit function of skill difference \n",
    "}\"\"\"\n",
    "    return model"
   ]
  },
  {
   "cell_type": "code",
   "execution_count": 53,
   "metadata": {},
   "outputs": [],
   "source": [
    "def compare_ngames(n_games_range, iter = 10, n_players = 10, skill_cap = 50, scale = 0.5):\n",
    "    true_players=generate_players(n_players, skill_cap)\n",
    "    mean = round(skill_cap / 2)\n",
    "    std = round(mean / 3)\n",
    "    skill_model = create_skill_model(true_players, mean, 10)\n",
    "    #print(skill_model)\n",
    "    sm = pystan.StanModel(model_code = skill_model)\n",
    "    \n",
    "    new_player = round(random.uniform(0,skill_cap),2)\n",
    "    print(true_players)\n",
    "    \n",
    "    result = {}\n",
    "    \n",
    "    for num_of_games in n_games_range:\n",
    "        print(num_of_games, new_player)\n",
    "        diffs = []\n",
    "        for _ in range(iter):\n",
    "            p1_list,p2_list,win_list = generate_games_for_new_player(true_players, new_player, num_of_games, scale)\n",
    "            skill_data = {\n",
    "                'N': len(true_players) + 1,\n",
    "                'E': num_of_games,\n",
    "                'scale': 0.5,\n",
    "                'win':win_list,\n",
    "                'PA': p1_list,\n",
    "                'PB': p2_list,\n",
    "            }\n",
    "            fit = sm.sampling(data=skill_data, iter=400, chains=2, control={'max_treedepth': 14})\n",
    "            samples = fit.extract()\n",
    "\n",
    "            pred = samples['skill'].mean(0)[-1]\n",
    "            diff = abs(pred - new_player)**2\n",
    "            #print(f'pred:{pred}, diff:{diff}')\n",
    "            print('*',end='')\n",
    "            \n",
    "            diffs.append(diff)\n",
    "        result[num_of_games] = diffs\n",
    "        print('mean:',np.mean(diffs), '\\n')\n",
    "    return result"
   ]
  },
  {
   "cell_type": "code",
   "execution_count": 56,
   "metadata": {},
   "outputs": [
    {
     "name": "stderr",
     "output_type": "stream",
     "text": [
      "INFO:pystan:COMPILING THE C++ CODE FOR MODEL anon_model_eff36563b5a2fbc2e9b4814244d57166 NOW.\n"
     ]
    },
    {
     "name": "stdout",
     "output_type": "stream",
     "text": [
      "[5.11, 29.41, 2.07, 17.09, 45.35, 16.22, 10.39, 46.38, 37.88, 30.2, 31.53, 5.76, 16.11, 24.23, 35.4, 38.37, 17.94, 13.85, 27.09, 30.71, 48.44, 22.02, 44.3, 6.02, 42.0, 36.61, 48.55, 42.86, 29.79, 4.35, 11.32, 1.86, 37.87, 38.33, 3.2, 38.07, 22.57, 22.57, 6.7, 48.15, 9.36, 39.64, 21.3, 32.23, 16.34, 7.59, 12.31, 47.05, 41.79, 20.25]\n",
      "10 42.26\n",
      "**********mean: 20.704616064544826 \n",
      "\n",
      "25 42.26\n",
      "**********mean: 5.2225649427869545 \n",
      "\n",
      "40 42.26\n",
      "**********mean: 4.3079514013172115 \n",
      "\n",
      "55 42.26\n",
      "**********mean: 2.4063466702291483 \n",
      "\n",
      "70 42.26\n",
      "**********mean: 1.2014329392844938 \n",
      "\n",
      "85 42.26\n",
      "**********mean: 1.655875050188038 \n",
      "\n",
      "100 42.26\n",
      "**********mean: 1.1948373423897882 \n",
      "\n"
     ]
    }
   ],
   "source": [
    "result = compare_ngames(range(10, 101, 15), iter = 10, n_players = 50, skill_cap = 50)"
   ]
  },
  {
   "cell_type": "code",
   "execution_count": 55,
   "metadata": {},
   "outputs": [
    {
     "name": "stdout",
     "output_type": "stream",
     "text": [
      "[10, 25, 40, 55, 70, 85, 100]\n",
      "[10.868188115522695, 4.753110012097215, 2.27074552667454, 2.7315081391070657, 1.5147473728846672, 1.665515416817878, 1.4325547906459477]\n"
     ]
    },
    {
     "data": {
      "image/png": "[encoded data removed]",
      "text/plain": [
       "<Figure size 1440x360 with 1 Axes>"
      ]
     },
     "metadata": {
      "needs_background": "light"
     },
     "output_type": "display_data"
    }
   ],
   "source": [
    "plt.figure(figsize=(20,5))\n",
    "x = []\n",
    "y = []\n",
    "std = []\n",
    "\n",
    "for key in result:\n",
    "    x.append(key)\n",
    "    y.append(np.mean(result[key]))\n",
    "    std.append(np.std(result[key]))\n",
    "\n",
    "print(x)\n",
    "print(y)\n",
    "plt.scatter(x, y, marker='.' ,label = 'MSE',linewidths=0.01)\n",
    "plt.errorbar(x, y, yerr = std, capsize = 5)\n",
    "\n",
    "plt.title('Skill Estimation for New Player Competing Against 100 Old Players')\n",
    "plt.xlabel('Number of Games')\n",
    "plt.ylabel('Mean Square Error')\n",
    "plt.ylim(top=15)\n",
    "plt.legend()\n",
    "plt.show()"
   ]
  }
 ],
 "metadata": {
  "kernelspec": {
   "display_name": "Python 3",
   "language": "python",
   "name": "python3"
  },
  "language_info": {
   "codemirror_mode": {
    "name": "ipython",
    "version": 3
   },
   "file_extension": ".py",
   "mimetype": "text/x-python",
   "name": "python",
   "nbconvert_exporter": "python",
   "pygments_lexer": "ipython3",
   "version": "3.7.3"
  }
 },
 "nbformat": 4,
 "nbformat_minor": 4
}
