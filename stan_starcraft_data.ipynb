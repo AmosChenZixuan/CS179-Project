{
 "cells": [
  {
   "cell_type": "code",
   "execution_count": 1,
   "metadata": {},
   "outputs": [],
   "source": [
    "import numpy as np\n",
    "import pandas as pd\n",
    "import pystan\n",
    "import matplotlib.pyplot as plt\n",
    "import random\n",
    "import time\n",
    "%matplotlib inline"
   ]
  },
  {
   "cell_type": "code",
   "execution_count": 2,
   "metadata": {},
   "outputs": [],
   "source": [
    "skill_model = \"\"\"\n",
    "data {\n",
    "  int<lower=1> N;             # Total number of players\n",
    "  int<lower=1> E;             # number of games\n",
    "  real<lower=0> scale;        # scale value for probability computation\n",
    "  int<lower=0,upper=1> win[E]; # PA wins vs PB\n",
    "  int PA[E];                  # player info between each game\n",
    "  int PB[E];                  # \n",
    "}\n",
    "parameters {\n",
    "  vector [N] skill;           # skill values for each player\n",
    "}\n",
    "\n",
    "model{\n",
    "  for (i in 1:N){ skill[i]~normal(25,8); }\n",
    "  for (i in 1:E){\n",
    "    win[i] ~ bernoulli_logit( (scale)*(skill[PA[i]]-skill[PB[i]]) );\n",
    "  }   # win probability is a logit function of skill difference\n",
    "}\n",
    "\"\"\""
   ]
  },
  {
   "cell_type": "code",
   "execution_count": 3,
   "metadata": {},
   "outputs": [],
   "source": [
    "import pickle\n",
    "try:     # load it if already compiled\n",
    "    sm = pickle.load(open('skill_model.pkl', 'rb'))\n",
    "except:  # ow, compile and save compiled model\n",
    "    sm = pystan.StanModel(model_code = skill_model)\n",
    "    with open('skill_model.pkl', 'wb') as f: pickle.dump(sm, f)"
   ]
  },
  {
   "cell_type": "code",
   "execution_count": 4,
   "metadata": {},
   "outputs": [],
   "source": [
    "def load_data_stan(file_name, pk=1, edge=3, nk=5):\n",
    "    with open(file_name, encoding='utf-8') as f: lines = f.read().split('\\n')\n",
    "    p = 0; playerid = {};\n",
    "    for i in range(len(lines)):\n",
    "        csv = lines[i].split(',')\n",
    "        if len(csv) != 10: continue   # parse error or blank line\n",
    "        player0,player1 = csv[1],csv[4]\n",
    "        if player0 not in playerid: playerid[player0]=p; p+=1\n",
    "        if player1 not in playerid: playerid[player1]=p; p+=1\n",
    "\n",
    "    nplayers = len(playerid)\n",
    "    playername = ['']*nplayers\n",
    "    for player in playerid:\n",
    "        playername[ playerid[player] ]=player;  # id to name lookup\n",
    "\n",
    "\n",
    "    pKeep = pk   # fraction of edges to consider (immed. throw out 1-p edges)\n",
    "    nEdge = edge     # try to keep nEdge opponents per player (may be more; asymmetric)\n",
    "    nKeep = nk     # keep at most nKeep games per opponent pairs (play each other multiple times)\n",
    "\n",
    "    count = 0\n",
    "    nplays, nwins = np.zeros( (nplayers,nplayers) ), np.zeros( (nplayers,nplayers) );\n",
    "    player_A = []\n",
    "    player_B = []\n",
    "    wins = []\n",
    "    for i in range(len(lines)):\n",
    "        csv = lines[i].split(',')\n",
    "        if len(csv) != 10: continue;   # parse error or blank line\n",
    "        a,b = playerid[csv[1]],playerid[csv[4]];\n",
    "        aw,bw = csv[2]=='[winner]',csv[5]=='[winner]';\n",
    "        if (np.random.rand() < pKeep):\n",
    "            if (nplays[a,b] < nKeep) and ( ((nplays[a,:]>0).sum() < nEdge) or ((nplays[:,b]>0).sum() < nEdge) ):\n",
    "                count += 1\n",
    "                nplays[a,b] += 1; nplays[b,a]+=1; nwins[a,b] += aw; nwins[b,a] += bw;\n",
    "                player_A.append(a+1)\n",
    "                player_B.append(b+1)\n",
    "                wins.append(aw)\n",
    "\n",
    "    win_re = []\n",
    "    for i in wins:\n",
    "        if i:\n",
    "            win_re.append(1)\n",
    "        else:\n",
    "            win_re.append(0)\n",
    "    return np.array([player_A,player_B,win_re]), playerid, playername"
   ]
  },
  {
   "cell_type": "code",
   "execution_count": 5,
   "metadata": {
    "scrolled": true
   },
   "outputs": [
    {
     "name": "stdout",
     "output_type": "stream",
     "text": [
      "998\n"
     ]
    }
   ],
   "source": [
    "train_data, playerid, playername = load_data_stan(\"train.csv\",1,1,10)\n",
    "print(train_data.shape[1])"
   ]
  },
  {
   "cell_type": "code",
   "execution_count": 6,
   "metadata": {},
   "outputs": [],
   "source": [
    "skill_data = {\n",
    "    'N': len(playerid),\n",
    "    'E': train_data.shape[1],\n",
    "    'scale': 0.5,\n",
    "    'win':train_data[2],\n",
    "    'PA': train_data[0],\n",
    "    'PB': train_data[1]\n",
    "}"
   ]
  },
  {
   "cell_type": "code",
   "execution_count": 7,
   "metadata": {},
   "outputs": [
    {
     "name": "stderr",
     "output_type": "stream",
     "text": [
      "WARNING:pystan:n_eff / iter below 0.001 indicates that the effective sample size has likely been overestimated\n"
     ]
    },
    {
     "name": "stdout",
     "output_type": "stream",
     "text": [
      "4.3660988\n"
     ]
    }
   ],
   "source": [
    "start = time.perf_counter()\n",
    "fit = sm.sampling(data=skill_data, iter=200, chains=2)\n",
    "print(time.perf_counter() - start)"
   ]
  },
  {
   "cell_type": "markdown",
   "metadata": {},
   "source": [
    "# validate"
   ]
  },
  {
   "cell_type": "code",
   "execution_count": 8,
   "metadata": {},
   "outputs": [],
   "source": [
    "def load_data(file_name):\n",
    "    data=pd.read_csv(file_name,index_col=False,\n",
    "                     names=['date', 'p1', 'p1_outcome', 'score', 'p2', 'p2_outcome', 'p1_race', 'p2_race', 'addon', 'type'])\n",
    "    #drop other columns for now\n",
    "    data.drop(columns=['date','score','p2_outcome','p1_race', 'p2_race', 'addon', 'type'], inplace=True)\n",
    "    data['p1_outcome'].replace({\"[loser]\":0,\"[winner]\":1},inplace=True)\n",
    "    return data\n",
    "\n",
    "valid_data = load_data('valid.csv')\n",
    "valid_data['p1'].replace(playerid,inplace=True)\n",
    "valid_data['p2'].replace(playerid,inplace=True)\n",
    "valid_games=[tuple((r[0],r[2],r[1])) for r in valid_data.to_numpy()]\n",
    "#valid_games"
   ]
  },
  {
   "cell_type": "code",
   "execution_count": 9,
   "metadata": {},
   "outputs": [],
   "source": [
    "def logit(z): return 1./(1.+np.exp(-z))\n",
    "def validate(fits, valid_games, n_games):\n",
    "    accuracy = []\n",
    "    for fit in fits:\n",
    "        samples = fits[fit].extract()\n",
    "        acc, acc_simulate = 0, 0\n",
    "        n = n_games\n",
    "        #for g in valid_games[:n_games]:\n",
    "        for g in [valid_games[i] for i in np.random.choice(len(valid_games), n, replace = False)]:\n",
    "            try:\n",
    "                i,j,result=int(g[0]),int(g[1]),int(g[2])\n",
    "            except:\n",
    "                n-=1\n",
    "                continue\n",
    "\n",
    "            prob = logit( skill_data['scale']*(samples['skill'][:,i]-samples['skill'][:,j]) ).mean()\n",
    "            pred = 1 if prob > 0.5 else 0 #\n",
    "            pred_simulate = np.random.choice([1,0], p=[prob, 1-prob])\n",
    "            acc += (pred==result)\n",
    "            acc_simulate += (pred_simulate==result)\n",
    "        accuracy.append((acc/n, acc_simulate/n))\n",
    "        print(fit, accuracy[-1], n)\n",
    "    return accuracy"
   ]
  },
  {
   "cell_type": "code",
   "execution_count": 10,
   "metadata": {},
   "outputs": [
    {
     "name": "stdout",
     "output_type": "stream",
     "text": [
      "1 (0.5513, 0.5412) 10000\n"
     ]
    },
    {
     "data": {
      "text/plain": [
       "[(0.5513, 0.5412)]"
      ]
     },
     "execution_count": 10,
     "metadata": {},
     "output_type": "execute_result"
    }
   ],
   "source": [
    "accuracy = validate({1:fit}, valid_games, 10000)\n",
    "accuracy"
   ]
  },
  {
   "cell_type": "code",
   "execution_count": 11,
   "metadata": {},
   "outputs": [
    {
     "name": "stdout",
     "output_type": "stream",
     "text": [
      "1 (0.5524375844352016, 0.547895369493761) 94007\n"
     ]
    },
    {
     "data": {
      "text/plain": [
       "[(0.5524375844352016, 0.547895369493761)]"
      ]
     },
     "execution_count": 11,
     "metadata": {},
     "output_type": "execute_result"
    }
   ],
   "source": [
    "accuracy = validate({1:fit}, valid_games, len(valid_games))\n",
    "accuracy"
   ]
  },
  {
   "cell_type": "markdown",
   "metadata": {},
   "source": [
    "# compare"
   ]
  },
  {
   "cell_type": "code",
   "execution_count": 12,
   "metadata": {},
   "outputs": [],
   "source": [
    "def compare_nEdge(parameter_range, pKeep = 1, nKeep = 5, n_valid = 10000):\n",
    "    result = {}\n",
    "    for nEdge in parameter_range:\n",
    "        train_data, playerid, playername = load_data_stan(\"train.csv\", pKeep, nEdge, nKeep)\n",
    "        print(\"Number of Training data:\", train_data.shape[1])\n",
    "        skill_data = {\n",
    "            'N': len(playerid),\n",
    "            'E': train_data.shape[1],\n",
    "            'scale': 0.5,\n",
    "            'win':train_data[2],\n",
    "            'PA': train_data[0],\n",
    "            'PB': train_data[1]\n",
    "        }\n",
    "        start = time.perf_counter()\n",
    "        fit = sm.sampling(data=skill_data, iter=200, chains=2, control={'max_treedepth': 14})\n",
    "        print(\"Training time:\", time.perf_counter() - start)\n",
    "        \n",
    "        \n",
    "        valid_data = load_data('valid.csv')\n",
    "        valid_data['p1'].replace(playerid,inplace=True)\n",
    "        valid_data['p2'].replace(playerid,inplace=True)\n",
    "        valid_games=[tuple((r[0],r[2],r[1])) for r in valid_data.to_numpy()]\n",
    "        accuracy = validate({nEdge:fit}, valid_games, n_valid)\n",
    "        result[nEdge] = accuracy\n",
    "    return result\n",
    "        "
   ]
  },
  {
   "cell_type": "code",
   "execution_count": 13,
   "metadata": {
    "scrolled": true
   },
   "outputs": [
    {
     "name": "stdout",
     "output_type": "stream",
     "text": [
      "Number of Training data: 998\n"
     ]
    },
    {
     "name": "stderr",
     "output_type": "stream",
     "text": [
      "WARNING:pystan:n_eff / iter below 0.001 indicates that the effective sample size has likely been overestimated\n"
     ]
    },
    {
     "name": "stdout",
     "output_type": "stream",
     "text": [
      "Training time: 4.033962899999999\n",
      "1 (0.5561, 0.5449) 10000\n",
      "Number of Training data: 2808\n"
     ]
    },
    {
     "name": "stderr",
     "output_type": "stream",
     "text": [
      "WARNING:pystan:n_eff / iter below 0.001 indicates that the effective sample size has likely been overestimated\n"
     ]
    },
    {
     "name": "stdout",
     "output_type": "stream",
     "text": [
      "Training time: 13.208783699999998\n",
      "2 (0.5976, 0.5679) 10000\n",
      "Number of Training data: 6608\n",
      "Training time: 30.952792000000002\n",
      "4 (0.6245, 0.5797) 10000\n",
      "Number of Training data: 14370\n",
      "Training time: 65.75949179999999\n",
      "8 (0.6498, 0.5951) 10000\n",
      "Number of Training data: 29739\n",
      "Training time: 142.90399879999998\n",
      "16 (0.6734, 0.5939) 10000\n",
      "Number of Training data: 60596\n"
     ]
    },
    {
     "name": "stderr",
     "output_type": "stream",
     "text": [
      "WARNING:pystan:Rhat above 1.1 or below 0.9 indicates that the chains very likely have not mixed\n"
     ]
    },
    {
     "name": "stdout",
     "output_type": "stream",
     "text": [
      "Training time: 92.0408066\n",
      "32 (0.6861, 0.5991) 10000\n",
      "Number of Training data: 102716\n"
     ]
    },
    {
     "name": "stderr",
     "output_type": "stream",
     "text": [
      "WARNING:pystan:Rhat above 1.1 or below 0.9 indicates that the chains very likely have not mixed\n"
     ]
    },
    {
     "name": "stdout",
     "output_type": "stream",
     "text": [
      "Training time: 400.4612805\n",
      "64 (0.6906, 0.6086) 10000\n",
      "Number of Training data: 127579\n"
     ]
    },
    {
     "name": "stderr",
     "output_type": "stream",
     "text": [
      "WARNING:pystan:Rhat above 1.1 or below 0.9 indicates that the chains very likely have not mixed\n"
     ]
    },
    {
     "name": "stdout",
     "output_type": "stream",
     "text": [
      "Training time: 243.68269900000007\n",
      "128 (0.6836, 0.6042) 10000\n"
     ]
    },
    {
     "data": {
      "text/plain": [
       "{1: [(0.5561, 0.5449)],\n",
       " 2: [(0.5976, 0.5679)],\n",
       " 4: [(0.6245, 0.5797)],\n",
       " 8: [(0.6498, 0.5951)],\n",
       " 16: [(0.6734, 0.5939)],\n",
       " 32: [(0.6861, 0.5991)],\n",
       " 64: [(0.6906, 0.6086)],\n",
       " 128: [(0.6836, 0.6042)]}"
      ]
     },
     "execution_count": 13,
     "metadata": {},
     "output_type": "execute_result"
    }
   ],
   "source": [
    "compare_nEdge([2**i for i in range(8)])"
   ]
  },
  {
   "cell_type": "code",
   "execution_count": 16,
   "metadata": {},
   "outputs": [
    {
     "name": "stdout",
     "output_type": "stream",
     "text": [
      "Number of Training data: 37448\n"
     ]
    },
    {
     "name": "stderr",
     "output_type": "stream",
     "text": [
      "WARNING:pystan:Rhat above 1.1 or below 0.9 indicates that the chains very likely have not mixed\n"
     ]
    },
    {
     "name": "stdout",
     "output_type": "stream",
     "text": [
      "Training time: 80.4659153\n",
      "20 (0.6762, 0.6) 10000\n",
      "Number of Training data: 56788\n"
     ]
    },
    {
     "name": "stderr",
     "output_type": "stream",
     "text": [
      "WARNING:pystan:Rhat above 1.1 or below 0.9 indicates that the chains very likely have not mixed\n"
     ]
    },
    {
     "name": "stdout",
     "output_type": "stream",
     "text": [
      "Training time: 85.91289299999994\n",
      "30 (0.6835, 0.6003) 10000\n",
      "Number of Training data: 74512\n"
     ]
    },
    {
     "name": "stderr",
     "output_type": "stream",
     "text": [
      "WARNING:pystan:Rhat above 1.1 or below 0.9 indicates that the chains very likely have not mixed\n",
      "WARNING:pystan:Chain 2: E-BFMI = 0.106\n",
      "WARNING:pystan:E-BFMI below 0.2 indicates you may need to reparameterize your model\n"
     ]
    },
    {
     "name": "stdout",
     "output_type": "stream",
     "text": [
      "Training time: 112.49282820000008\n",
      "40 (0.6819, 0.6056) 10000\n",
      "Number of Training data: 88935\n"
     ]
    },
    {
     "name": "stderr",
     "output_type": "stream",
     "text": [
      "WARNING:pystan:Rhat above 1.1 or below 0.9 indicates that the chains very likely have not mixed\n"
     ]
    },
    {
     "name": "stdout",
     "output_type": "stream",
     "text": [
      "Training time: 138.56850680000002\n",
      "50 (0.684, 0.6032) 10000\n",
      "Number of Training data: 99435\n"
     ]
    },
    {
     "name": "stderr",
     "output_type": "stream",
     "text": [
      "WARNING:pystan:Rhat above 1.1 or below 0.9 indicates that the chains very likely have not mixed\n",
      "WARNING:pystan:Chain 1: E-BFMI = 0.137\n",
      "WARNING:pystan:E-BFMI below 0.2 indicates you may need to reparameterize your model\n"
     ]
    },
    {
     "name": "stdout",
     "output_type": "stream",
     "text": [
      "Training time: 170.40448319999996\n",
      "60 (0.6889, 0.6021) 10000\n",
      "Number of Training data: 107207\n"
     ]
    },
    {
     "name": "stderr",
     "output_type": "stream",
     "text": [
      "WARNING:pystan:Rhat above 1.1 or below 0.9 indicates that the chains very likely have not mixed\n"
     ]
    },
    {
     "name": "stdout",
     "output_type": "stream",
     "text": [
      "Training time: 189.02928829999973\n",
      "70 (0.6888, 0.6093) 10000\n",
      "Number of Training data: 113210\n"
     ]
    },
    {
     "name": "stderr",
     "output_type": "stream",
     "text": [
      "WARNING:pystan:Rhat above 1.1 or below 0.9 indicates that the chains very likely have not mixed\n",
      "WARNING:pystan:Chain 1: E-BFMI = 0.129\n",
      "WARNING:pystan:E-BFMI below 0.2 indicates you may need to reparameterize your model\n"
     ]
    },
    {
     "name": "stdout",
     "output_type": "stream",
     "text": [
      "Training time: 205.08381740000004\n",
      "80 (0.6836, 0.6033) 10000\n"
     ]
    },
    {
     "data": {
      "text/plain": [
       "{20: [(0.6762, 0.6)],\n",
       " 30: [(0.6835, 0.6003)],\n",
       " 40: [(0.6819, 0.6056)],\n",
       " 50: [(0.684, 0.6032)],\n",
       " 60: [(0.6889, 0.6021)],\n",
       " 70: [(0.6888, 0.6093)],\n",
       " 80: [(0.6836, 0.6033)]}"
      ]
     },
     "execution_count": 16,
     "metadata": {},
     "output_type": "execute_result"
    }
   ],
   "source": [
    "compare_nEdge(range(20,81,10))"
   ]
  }
 ],
 "metadata": {
  "kernelspec": {
   "display_name": "Python 3",
   "language": "python",
   "name": "python3"
  },
  "language_info": {
   "codemirror_mode": {
    "name": "ipython",
    "version": 3
   },
   "file_extension": ".py",
   "mimetype": "text/x-python",
   "name": "python",
   "nbconvert_exporter": "python",
   "pygments_lexer": "ipython3",
   "version": "3.7.3"
  }
 },
 "nbformat": 4,
 "nbformat_minor": 4
}
