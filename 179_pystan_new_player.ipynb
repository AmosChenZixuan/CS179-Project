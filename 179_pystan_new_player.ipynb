{
 "cells": [
  {
   "cell_type": "code",
   "execution_count": 1,
   "metadata": {},
   "outputs": [],
   "source": [
    "import numpy as np\n",
    "import pandas as pd\n",
    "import pystan\n",
    "import matplotlib.pyplot as plt\n",
    "import random\n",
    "import time\n",
    "%matplotlib inline"
   ]
  },
  {
   "cell_type": "code",
   "execution_count": 2,
   "metadata": {},
   "outputs": [],
   "source": [
    "def logit(z): return 1./(1.+np.exp(-z))"
   ]
  },
  {
   "cell_type": "code",
   "execution_count": 3,
   "metadata": {},
   "outputs": [],
   "source": [
    "def generate_players(num_of_players, skill_cap):\n",
    "    ## returns a list of player's skill\n",
    "    return [round(random.uniform(0,skill_cap),2) for i in range(num_of_players)]"
   ]
  },
  {
   "cell_type": "code",
   "execution_count": 4,
   "metadata": {},
   "outputs": [],
   "source": [
    "def generate_games_for_new_player(true_players, new_player, num_of_games,scale, style='pygm'):\n",
    "    p1_list=[]\n",
    "    p2_list=[]\n",
    "    win_list=[]\n",
    "    for i in range(num_of_games):\n",
    "        p1 = len(true_players)+1\n",
    "        p2 = random.sample(range(1,len(true_players)+1),1)[0]\n",
    "        win_rate = logit (scale* (new_player- true_players[p2-1]))\n",
    "        \n",
    "        p1_list.append(p1)\n",
    "        p2_list.append(p2)\n",
    "        win_list.append(*random.choices([1,0],weights=[win_rate, 1-win_rate]))\n",
    "#         games.append((p1,p2,*random.choices([1,-1],weights=[win_rate, 1-win_rate])))\n",
    "\n",
    "    return p1_list, p2_list, win_list"
   ]
  },
  {
   "cell_type": "code",
   "execution_count": 5,
   "metadata": {},
   "outputs": [],
   "source": [
    "def create_skill_model(skills):\n",
    "    model = \"\"\"\n",
    "data {\n",
    "  int<lower=1> N;             # Total number of players\n",
    "  int<lower=1> E;             # number of games\n",
    "  real<lower=0> scale;        # scale value for probability computation\n",
    "  int<lower=0,upper=1> win[E]; # PA wins vs PB\n",
    "  int PA[E];                  # player info between each game\n",
    "  int PB[E];                  # \n",
    "}\n",
    "parameters {\n",
    "  vector [N] skill;           # skill values for each player\n",
    "}\n",
    "\n",
    "model{\n",
    "\"\"\"\n",
    "    for i in range(1, len(skills)+1):\n",
    "        model += f\"skill[{i}]~normal({skills[i-1]}, 3);\\n\"\n",
    "    model += f\"skill[{len(skills)+1}]~normal(25,8);\\n\"\n",
    "    model += \"\"\"for (i in 1:E){ \n",
    "    win[i] ~ bernoulli_logit( (scale)*(skill[PA[i]]-skill[PB[i]]) ); \n",
    "  }   # win probability is a logit function of skill difference \n",
    "}\"\"\"\n",
    "    return model"
   ]
  },
  {
   "cell_type": "code",
   "execution_count": 6,
   "metadata": {},
   "outputs": [],
   "source": [
    "true_players=generate_players(10,50)\n",
    "skill_model = create_skill_model(true_players)"
   ]
  },
  {
   "cell_type": "code",
   "execution_count": 7,
   "metadata": {},
   "outputs": [
    {
     "name": "stderr",
     "output_type": "stream",
     "text": [
      "INFO:pystan:COMPILING THE C++ CODE FOR MODEL anon_model_c23c3a185adf00d76dcaea91ddc1c8f7 NOW.\n"
     ]
    }
   ],
   "source": [
    "import pickle\n",
    "\n",
    "sm = pystan.StanModel(model_code = skill_model)\n",
    "with open('skill_model_test.pkl', 'wb') as f: pickle.dump(sm, f)"
   ]
  },
  {
   "cell_type": "code",
   "execution_count": 8,
   "metadata": {},
   "outputs": [
    {
     "data": {
      "text/plain": [
       "'\\ndata {\\n  int<lower=1> N;             # Total number of players\\n  int<lower=1> E;             # number of games\\n  real<lower=0> scale;        # scale value for probability computation\\n  int<lower=0,upper=1> win[E]; # PA wins vs PB\\n  int PA[E];                  # player info between each game\\n  int PB[E];                  # \\n}\\nparameters {\\n  vector [N] skill;           # skill values for each player\\n}\\n\\nmodel{\\nskill[1]~normal(22.47, 3);\\nskill[2]~normal(21.01, 3);\\nskill[3]~normal(35.41, 3);\\nskill[4]~normal(30.65, 3);\\nskill[5]~normal(26.5, 3);\\nskill[6]~normal(0.85, 3);\\nskill[7]~normal(40.56, 3);\\nskill[8]~normal(37.81, 3);\\nskill[9]~normal(38.25, 3);\\nskill[10]~normal(33.5, 3);\\nskill[11]~normal(25,8);\\nfor (i in 1:E){ \\n    win[i] ~ bernoulli_logit( (scale)*(skill[PA[i]]-skill[PB[i]]) ); \\n  }   # win probability is a logit function of skill difference \\n}'"
      ]
     },
     "execution_count": 8,
     "metadata": {},
     "output_type": "execute_result"
    }
   ],
   "source": [
    "skill_model"
   ]
  },
  {
   "cell_type": "code",
   "execution_count": 40,
   "metadata": {},
   "outputs": [],
   "source": [
    "new_player = round(random.uniform(0,50),2)"
   ]
  },
  {
   "cell_type": "code",
   "execution_count": 41,
   "metadata": {},
   "outputs": [
    {
     "data": {
      "text/plain": [
       "array([22.73472125, 21.14534852, 33.92323191, 30.19909834, 26.56169446,\n",
       "        0.6682659 , 40.77231298, 37.47479408, 38.62768463, 32.97764358,\n",
       "       46.74489307])"
      ]
     },
     "execution_count": 41,
     "metadata": {},
     "output_type": "execute_result"
    }
   ],
   "source": [
    "num_of_games = 1000\n",
    "scale = 0.5\n",
    "p1_list,p2_list,win_list = generate_games_for_new_player(true_players, new_player, num_of_games,scale )\n",
    "\n",
    "skill_data = {\n",
    "    'N': len(true_players) + 1,\n",
    "    'E': num_of_games,\n",
    "    'scale': 0.5,\n",
    "    'win':win_list,\n",
    "    'PA': p1_list,\n",
    "    'PB': p2_list,\n",
    "}\n",
    "\n",
    "fit = sm.sampling(data=skill_data, iter=200, chains=2)\n",
    "samples = fit.extract()\n",
    "\n",
    "samples['skill'].mean(0)"
   ]
  },
  {
   "cell_type": "code",
   "execution_count": 42,
   "metadata": {
    "scrolled": true
   },
   "outputs": [
    {
     "data": {
      "text/plain": [
       "[22.47, 21.01, 35.41, 30.65, 26.5, 0.85, 40.56, 37.81, 38.25, 33.5]"
      ]
     },
     "execution_count": 42,
     "metadata": {},
     "output_type": "execute_result"
    }
   ],
   "source": [
    "true_players"
   ]
  },
  {
   "cell_type": "code",
   "execution_count": 43,
   "metadata": {},
   "outputs": [
    {
     "data": {
      "text/plain": [
       "46.75"
      ]
     },
     "execution_count": 43,
     "metadata": {},
     "output_type": "execute_result"
    }
   ],
   "source": [
    "new_player"
   ]
  },
  {
   "cell_type": "code",
   "execution_count": null,
   "metadata": {},
   "outputs": [],
   "source": []
  },
  {
   "cell_type": "code",
   "execution_count": null,
   "metadata": {},
   "outputs": [],
   "source": []
  },
  {
   "cell_type": "code",
   "execution_count": null,
   "metadata": {},
   "outputs": [],
   "source": []
  },
  {
   "cell_type": "code",
   "execution_count": 13,
   "metadata": {
    "scrolled": true
   },
   "outputs": [
    {
     "data": {
      "text/plain": [
       "[11,\n",
       " 11,\n",
       " 11,\n",
       " 11,\n",
       " 11,\n",
       " 11,\n",
       " 11,\n",
       " 11,\n",
       " 11,\n",
       " 11,\n",
       " 11,\n",
       " 11,\n",
       " 11,\n",
       " 11,\n",
       " 11,\n",
       " 11,\n",
       " 11,\n",
       " 11,\n",
       " 11,\n",
       " 11]"
      ]
     },
     "execution_count": 13,
     "metadata": {},
     "output_type": "execute_result"
    }
   ],
   "source": [
    "p1_list"
   ]
  },
  {
   "cell_type": "code",
   "execution_count": 14,
   "metadata": {
    "scrolled": true
   },
   "outputs": [
    {
     "data": {
      "text/plain": [
       "[5, 10, 7, 5, 10, 2, 3, 7, 7, 2, 9, 7, 8, 7, 5, 10, 7, 3, 1, 8]"
      ]
     },
     "execution_count": 14,
     "metadata": {},
     "output_type": "execute_result"
    }
   ],
   "source": [
    "p2_list"
   ]
  },
  {
   "cell_type": "code",
   "execution_count": 15,
   "metadata": {},
   "outputs": [
    {
     "data": {
      "text/plain": [
       "[1, 0, 0, 1, 0, 1, 0, 0, 0, 1, 0, 0, 0, 0, 1, 0, 0, 0, 1, 0]"
      ]
     },
     "execution_count": 15,
     "metadata": {},
     "output_type": "execute_result"
    }
   ],
   "source": [
    "win_list"
   ]
  },
  {
   "cell_type": "code",
   "execution_count": null,
   "metadata": {},
   "outputs": [],
   "source": []
  },
  {
   "cell_type": "code",
   "execution_count": null,
   "metadata": {},
   "outputs": [],
   "source": []
  },
  {
   "cell_type": "code",
   "execution_count": null,
   "metadata": {},
   "outputs": [],
   "source": []
  }
 ],
 "metadata": {
  "kernelspec": {
   "display_name": "Python 3",
   "language": "python",
   "name": "python3"
  },
  "language_info": {
   "codemirror_mode": {
    "name": "ipython",
    "version": 3
   },
   "file_extension": ".py",
   "mimetype": "text/x-python",
   "name": "python",
   "nbconvert_exporter": "python",
   "pygments_lexer": "ipython3",
   "version": "3.7.4"
  }
 },
 "nbformat": 4,
 "nbformat_minor": 4
}
