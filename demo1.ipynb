{
 "cells": [
  {
   "cell_type": "code",
   "execution_count": 2,
   "metadata": {},
   "outputs": [],
   "source": [
    "import numpy as np\n",
    "import pystan\n",
    "import matplotlib.pyplot as plt\n",
    "import random\n",
    "import time\n",
    "%matplotlib inline"
   ]
  },
  {
   "cell_type": "code",
   "execution_count": 3,
   "metadata": {},
   "outputs": [],
   "source": [
    "def logit(z): return 1./(1.+np.exp(-z))"
   ]
  },
  {
   "cell_type": "code",
   "execution_count": 4,
   "metadata": {},
   "outputs": [],
   "source": [
    "def generate_players(num_of_players, skill_cap):\n",
    "    ## returns a list of player's skill\n",
    "    return [round(random.uniform(0,skill_cap),2) for i in range(num_of_players)]\n",
    "\n",
    "\n",
    "def generate_games(players, num_of_games, scale=0.3, style='pystan'):\n",
    "\n",
    "    if style == 'pystan':\n",
    "        \n",
    "        player1=[]\n",
    "        player2=[]\n",
    "        outcome=[]\n",
    "        for i in range(num_of_games):\n",
    "            p1,p2 = random.sample(range(len(players)),2)\n",
    "            win_rate=logit(scale*(players[p1]-players[p2]) )\n",
    "\n",
    "            ##pystan player id is ONE based\n",
    "            player1.append(p1+1)\n",
    "            player2.append(p2+1)\n",
    "            \n",
    "            outcome.append(*random.choices([1,0],weights=[win_rate,1-win_rate]))\n",
    "\n",
    "        return np.array([player1,player2,outcome])\n",
    "    \n",
    "    elif style == 'pygm':\n",
    "        games=[]\n",
    "        for i in range(num_of_games):\n",
    "            p1,p2 = random.sample(range(len(players)),2)\n",
    "            win_rate=logit(scale*(players[p1]-players[p2]) )\n",
    "            \n",
    "            games.append((p1,p2,*random.choices([1,-1],weights=[win_rate,1-win_rate])))\n",
    "        return games\n",
    "    \n",
    "    assert False \n"
   ]
  },
  {
   "cell_type": "code",
   "execution_count": 5,
   "metadata": {},
   "outputs": [],
   "source": [
    "def prediction_accuracy(skill_data, samples, true_players, num_valid_game=1000, scale=0.3):\n",
    "    \n",
    "    valid_games = generate_games(true_players, num_valid_game, scale, style='pystan')\n",
    "\n",
    "    acc=0\n",
    "    for g in range(num_valid_game):\n",
    "        i,j,result=valid_games[0][g],valid_games[1][g],valid_games[2][g]\n",
    "\n",
    "        prediction = logit( skill_data['scale']*(samples['skill'][:,i-1]-samples['skill'][:,j-1]) ).mean()\n",
    "\n",
    "        acc+= int( (prediction >= 0.5 and result==1) or (prediction<0.5 and result==0) )\n",
    "    return acc/num_valid_game\n",
    "\n",
    "def prediction_accuracy_2(skill_data, samples, valid_data, scale=0.3):\n",
    "    \n",
    "    #valid_games = generate_games(true_players, num_valid_game, scale, style='pystan')\n",
    "\n",
    "    acc=0\n",
    "    for g in range(valid_data.shape[1]):\n",
    "        p1,p2,result=valid_data[0][g],valid_data[1][g],valid_data[2][g]\n",
    "\n",
    "        win_rate = logit( skill_data['scale']*(samples['skill'][:,p1-1]-samples['skill'][:,p2-1]) ).mean()\n",
    "        \n",
    "        predict_result = random.choices([1,0],weights=[win_rate,1-win_rate])\n",
    "\n",
    "        if predict_result == result:\n",
    "            acc += 1\n",
    "    return acc/valid_data.shape[1]"
   ]
  },
  {
   "cell_type": "code",
   "execution_count": 6,
   "metadata": {},
   "outputs": [],
   "source": [
    "skill_model = \"\"\"\n",
    "data {\n",
    "  int<lower=1> N;             # Total number of players\n",
    "  int<lower=1> E;             # number of games\n",
    "  real<lower=0> scale;        # scale value for probability computation\n",
    "  int<lower=0,upper=1> win[E]; # PA wins vs PB\n",
    "  int PA[E];                  # player info between each game\n",
    "  int PB[E];                  # \n",
    "}\n",
    "parameters {\n",
    "  vector [N] skill;           # skill values for each player\n",
    "}\n",
    "\n",
    "model{\n",
    "  for (i in 1:N){ skill[i]~normal(0,10); }\n",
    "  for (i in 1:E){\n",
    "    win[i] ~ bernoulli_logit( (scale)*(skill[PA[i]]-skill[PB[i]]) );\n",
    "  }   # win probability is a logit function of skill difference\n",
    "}\n",
    "\"\"\""
   ]
  },
  {
   "cell_type": "markdown",
   "metadata": {},
   "source": [
    "Now, compile the model.  We'll save a version of it so we don't have to recompile every time."
   ]
  },
  {
   "cell_type": "code",
   "execution_count": 7,
   "metadata": {},
   "outputs": [],
   "source": [
    "import pickle\n",
    "try:     # load it if already compiled\n",
    "    sm = pickle.load(open('skill_model.pkl', 'rb'))\n",
    "except:  # ow, compile and save compiled model\n",
    "    sm = pystan.StanModel(model_code = skill_model)\n",
    "    with open('skill_model.pkl', 'wb') as f: pickle.dump(sm, f)"
   ]
  },
  {
   "cell_type": "markdown",
   "metadata": {},
   "source": [
    "We also need the observed data: number of players and games, which pairs played each game, and who won:"
   ]
  },
  {
   "cell_type": "markdown",
   "metadata": {},
   "source": [
    "Now, we can perform MCMC on the model, and extract the samples:"
   ]
  },
  {
   "cell_type": "markdown",
   "metadata": {},
   "source": [
    "If we just want the mean estimate for each player's skill level, just take the empirical average over the samples:"
   ]
  },
  {
   "cell_type": "code",
   "execution_count": null,
   "metadata": {},
   "outputs": [],
   "source": [
    "def run_data(nplayer):\n",
    "    scale=0.5\n",
    "    num_of_players=nplayer\n",
    "    result={}\n",
    "    #Generate games \n",
    "    print(\"start generating\")\n",
    "    Data = []\n",
    "    for trials in range(10):\n",
    "        p = generate_players(num_of_players,50)\n",
    "        games = generate_games(p,3000, scale, style='pystan')#####\n",
    "        games_pool = games[:,:2500]\n",
    "        valid_games = games[:,2500:]\n",
    "        Data.append((p,games_pool,valid_games))\n",
    "\n",
    "\n",
    "    for num_of_games in [3,5,10,20,35,50,70,100,500,700,1000,2500]:\n",
    "        starting_num_of_games=time.time()\n",
    "        trials_result=[]\n",
    "        print(\"starting num_of_games =\",num_of_games)\n",
    "        for trials in range(10):\n",
    "            true_players = Data[trials][0]\n",
    "\n",
    "            train_games = Data[trials][1][:,:num_of_games]\n",
    "            print(\"true skills:\",true_players)\n",
    "            skill_data = {\n",
    "                'N': num_of_players,\n",
    "                'E': num_of_games,\n",
    "                'scale': scale,###\n",
    "                'win':train_games[2],\n",
    "                'PA': train_games[0],\n",
    "                'PB': train_games[1]\n",
    "            }\n",
    "            starting=time.time()\n",
    "            fit = sm.sampling(data=skill_data, iter=10000, chains=4)####\n",
    "            print(\"spent:\",round(time.time()-starting,3))\n",
    "            samples = fit.extract()\n",
    "            print(\"predicted skills:\",samples['skill'].mean(0))\n",
    "            acc=prediction_accuracy_2(skill_data,samples,Data[trials][2])\n",
    "            print(\"acc:\",acc,\"\\n\")\n",
    "            trials_result.append(acc)\n",
    "\n",
    "        result[num_of_games]=trials_result\n",
    "        print(\"Complete\",num_of_games,\"| Spent:\",round(time.time()-starting_num_of_games,2))\n",
    "    return result\n"
   ]
  }
 ],
 "metadata": {
  "kernelspec": {
   "display_name": "Python 3",
   "language": "python",
   "name": "python3"
  },
  "language_info": {
   "codemirror_mode": {
    "name": "ipython",
    "version": 3
   },
   "file_extension": ".py",
   "mimetype": "text/x-python",
   "name": "python",
   "nbconvert_exporter": "python",
   "pygments_lexer": "ipython3",
   "version": "3.7.4"
  }
 },
 "nbformat": 4,
 "nbformat_minor": 2
}
