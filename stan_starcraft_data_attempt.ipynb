{
 "cells": [
  {
   "cell_type": "code",
   "execution_count": 1,
   "metadata": {},
   "outputs": [],
   "source": [
    "import numpy as np\n",
    "import pandas as pd\n",
    "import pystan\n",
    "import matplotlib.pyplot as plt\n",
    "import random\n",
    "import time\n",
    "%matplotlib inline"
   ]
  },
  {
   "cell_type": "code",
   "execution_count": 2,
   "metadata": {},
   "outputs": [],
   "source": [
    "skill_model = \"\"\"\n",
    "data {\n",
    "  int<lower=1> N;             # Total number of players\n",
    "  int<lower=1> E;             # number of games\n",
    "  real<lower=0> scale;        # scale value for probability computation\n",
    "  int<lower=0,upper=1> win[E]; # PA wins vs PB\n",
    "  int PA[E];                  # player info between each game\n",
    "  int PB[E];                  # \n",
    "}\n",
    "parameters {\n",
    "  vector [N] skill;           # skill values for each player\n",
    "}\n",
    "\n",
    "model{\n",
    "  for (i in 1:N){ skill[i]~normal(0,3); }\n",
    "  for (i in 1:E){\n",
    "    win[i] ~ bernoulli_logit( (scale)*(skill[PA[i]]-skill[PB[i]]) );\n",
    "  }   # win probability is a logit function of skill difference\n",
    "}\n",
    "\"\"\""
   ]
  },
  {
   "cell_type": "code",
   "execution_count": 3,
   "metadata": {},
   "outputs": [],
   "source": [
    "import pickle\n",
    "try:     # load it if already compiled\n",
    "    sm = pickle.load(open('skill_model.pkl', 'rb'))\n",
    "except:  # ow, compile and save compiled model\n",
    "    sm = pystan.StanModel(model_code = skill_model)\n",
    "    with open('skill_model.pkl', 'wb') as f: pickle.dump(sm, f)"
   ]
  },
  {
   "cell_type": "code",
   "execution_count": 4,
   "metadata": {},
   "outputs": [],
   "source": [
    "# load data\n",
    "def load_data(file_name):\n",
    "    data=pd.read_csv(file_name,index_col=False,\n",
    "                     names=['date', 'p1', 'p1_outcome', 'score', 'p2', 'p2_outcome', 'p1_race', 'p2_race', 'addon', 'type'])\n",
    "    #drop other columns for now\n",
    "    data.drop(columns=['date','score','p2_outcome','p1_race', 'p2_race', 'addon', 'type'], inplace=True)\n",
    "    data['p1_outcome'].replace({\"[loser]\":0,\"[winner]\":1},inplace=True)\n",
    "    return data"
   ]
  },
  {
   "cell_type": "code",
   "execution_count": 5,
   "metadata": {},
   "outputs": [
    {
     "data": {
      "text/html": [
       "<div>\n",
       "<style scoped>\n",
       "    .dataframe tbody tr th:only-of-type {\n",
       "        vertical-align: middle;\n",
       "    }\n",
       "\n",
       "    .dataframe tbody tr th {\n",
       "        vertical-align: top;\n",
       "    }\n",
       "\n",
       "    .dataframe thead th {\n",
       "        text-align: right;\n",
       "    }\n",
       "</style>\n",
       "<table border=\"1\" class=\"dataframe\">\n",
       "  <thead>\n",
       "    <tr style=\"text-align: right;\">\n",
       "      <th></th>\n",
       "      <th>p1</th>\n",
       "      <th>p1_outcome</th>\n",
       "      <th>p2</th>\n",
       "    </tr>\n",
       "  </thead>\n",
       "  <tbody>\n",
       "    <tr>\n",
       "      <th>0</th>\n",
       "      <td>MC</td>\n",
       "      <td>0</td>\n",
       "      <td>Stats</td>\n",
       "    </tr>\n",
       "    <tr>\n",
       "      <th>1</th>\n",
       "      <td>MC</td>\n",
       "      <td>0</td>\n",
       "      <td>Dark</td>\n",
       "    </tr>\n",
       "    <tr>\n",
       "      <th>2</th>\n",
       "      <td>MC</td>\n",
       "      <td>0</td>\n",
       "      <td>INnoVation</td>\n",
       "    </tr>\n",
       "    <tr>\n",
       "      <th>3</th>\n",
       "      <td>MC</td>\n",
       "      <td>0</td>\n",
       "      <td>TRUE</td>\n",
       "    </tr>\n",
       "    <tr>\n",
       "      <th>4</th>\n",
       "      <td>MC</td>\n",
       "      <td>1</td>\n",
       "      <td>Super</td>\n",
       "    </tr>\n",
       "    <tr>\n",
       "      <th>...</th>\n",
       "      <td>...</td>\n",
       "      <td>...</td>\n",
       "      <td>...</td>\n",
       "    </tr>\n",
       "    <tr>\n",
       "      <th>193069</th>\n",
       "      <td>Keiras</td>\n",
       "      <td>0</td>\n",
       "      <td>Harpner</td>\n",
       "    </tr>\n",
       "    <tr>\n",
       "      <th>193070</th>\n",
       "      <td>Keiras</td>\n",
       "      <td>1</td>\n",
       "      <td>Harpner</td>\n",
       "    </tr>\n",
       "    <tr>\n",
       "      <th>193071</th>\n",
       "      <td>Keiras</td>\n",
       "      <td>0</td>\n",
       "      <td>maTTzour</td>\n",
       "    </tr>\n",
       "    <tr>\n",
       "      <th>193072</th>\n",
       "      <td>Keiras</td>\n",
       "      <td>0</td>\n",
       "      <td>nukestrike</td>\n",
       "    </tr>\n",
       "    <tr>\n",
       "      <th>193073</th>\n",
       "      <td>Keiras</td>\n",
       "      <td>0</td>\n",
       "      <td>TomikuS</td>\n",
       "    </tr>\n",
       "  </tbody>\n",
       "</table>\n",
       "<p>193074 rows × 3 columns</p>\n",
       "</div>"
      ],
      "text/plain": [
       "            p1  p1_outcome          p2\n",
       "0           MC           0       Stats\n",
       "1           MC           0        Dark\n",
       "2           MC           0  INnoVation\n",
       "3           MC           0        TRUE\n",
       "4           MC           1       Super\n",
       "...        ...         ...         ...\n",
       "193069  Keiras           0     Harpner\n",
       "193070  Keiras           1     Harpner\n",
       "193071  Keiras           0    maTTzour\n",
       "193072  Keiras           0  nukestrike\n",
       "193073  Keiras           0     TomikuS\n",
       "\n",
       "[193074 rows x 3 columns]"
      ]
     },
     "execution_count": 5,
     "metadata": {},
     "output_type": "execute_result"
    }
   ],
   "source": [
    "train_data = load_data('train.csv')\n",
    "train_data"
   ]
  },
  {
   "cell_type": "code",
   "execution_count": 6,
   "metadata": {},
   "outputs": [],
   "source": [
    "class Player:\n",
    "    def __init__(self, id, name):\n",
    "        self.id = id\n",
    "        self.name = name\n",
    "        self.games = []\n",
    "        self.skill = None\n",
    "        \n",
    "    def add_match(self, name, outcome):\n",
    "        self.games.append((name, outcome))"
   ]
  },
  {
   "cell_type": "code",
   "execution_count": 7,
   "metadata": {},
   "outputs": [],
   "source": [
    "# list of players\n",
    "player_names = np.unique(np.concatenate((train_data['p1'], train_data['p2'])))\n",
    "\n",
    "players = dict()\n",
    "for i in range(len(player_names)):\n",
    "    name = player_names[i]\n",
    "    players[name] = Player(i+1, name)\n",
    "    \n",
    "for game in train_data.to_numpy():\n",
    "    p1, win, p2 = game\n",
    "    players[p1].add_match(p2, win)"
   ]
  },
  {
   "cell_type": "code",
   "execution_count": 8,
   "metadata": {},
   "outputs": [],
   "source": [
    "def create_skill_data(players, n_games, scale, verbose = False):\n",
    "    n_player = len(players)\n",
    "    sample_size = round(n_games / n_player)\n",
    "    if verbose:\n",
    "        print(\"Number of players:\", n_player)\n",
    "        print(\"Number of games to consider for each player:\", sample_size)\n",
    "    win = []\n",
    "    pa = []\n",
    "    pb = []\n",
    "    for p in players.values():\n",
    "        games = p.games if len(p.games) <= sample_size \\\n",
    "                        else [p.games[i] for i in np.random.choice(len(p.games), sample_size, replace = False)]\n",
    "        for g in games:\n",
    "            win.append(g[1])\n",
    "            pa.append(p.id)\n",
    "            pb.append(players[g[0]].id)\n",
    "            \n",
    "    if verbose:\n",
    "        print(\"Number of games fetched:\", len(win))\n",
    "        print(\"Number of p1:\", len(pa))\n",
    "        print(\"Number of p2:\", len(pb))\n",
    "     \n",
    "    return {\n",
    "        'N': n_player,\n",
    "        'E': len(win),\n",
    "        'scale': scale,\n",
    "        'win': win,\n",
    "        'PA': pa,\n",
    "        'PB': pb\n",
    "    }"
   ]
  },
  {
   "cell_type": "code",
   "execution_count": 9,
   "metadata": {},
   "outputs": [
    {
     "name": "stdout",
     "output_type": "stream",
     "text": [
      "Number of players: 999\n",
      "Number of games to consider for each player: 50\n",
      "Number of games fetched: 47254\n",
      "Number of p1: 47254\n",
      "Number of p2: 47254\n"
     ]
    }
   ],
   "source": [
    "skill_data = create_skill_data(players, 50000, 0.5, True)"
   ]
  },
  {
   "cell_type": "code",
   "execution_count": 10,
   "metadata": {},
   "outputs": [],
   "source": [
    "import time as tm\n",
    "def grid_search(data, iter_range, chain_range):\n",
    "    fits = {}\n",
    "    times = []\n",
    "    for x in iter_range:\n",
    "        for y in chain_range:\n",
    "            start = tm.perf_counter()\n",
    "            fits[(x,y)] = sm.sampling(data=data, iter=x, chains=y)\n",
    "            times.append(tm.perf_counter() - start)\n",
    "            print((x,y), times[-1])\n",
    "    return fits, times"
   ]
  },
  {
   "cell_type": "code",
   "execution_count": 11,
   "metadata": {},
   "outputs": [
    {
     "name": "stdout",
     "output_type": "stream",
     "text": [
      "(1000, 4) 732.5755654999999\n"
     ]
    }
   ],
   "source": [
    "fits, time = grid_search(skill_data, [1000], [4])"
   ]
  },
  {
   "cell_type": "markdown",
   "metadata": {},
   "source": [
    "# Validation"
   ]
  },
  {
   "cell_type": "code",
   "execution_count": 12,
   "metadata": {},
   "outputs": [
    {
     "data": {
      "text/html": [
       "<div>\n",
       "<style scoped>\n",
       "    .dataframe tbody tr th:only-of-type {\n",
       "        vertical-align: middle;\n",
       "    }\n",
       "\n",
       "    .dataframe tbody tr th {\n",
       "        vertical-align: top;\n",
       "    }\n",
       "\n",
       "    .dataframe thead th {\n",
       "        text-align: right;\n",
       "    }\n",
       "</style>\n",
       "<table border=\"1\" class=\"dataframe\">\n",
       "  <thead>\n",
       "    <tr style=\"text-align: right;\">\n",
       "      <th></th>\n",
       "      <th>p1</th>\n",
       "      <th>p1_outcome</th>\n",
       "      <th>p2</th>\n",
       "    </tr>\n",
       "  </thead>\n",
       "  <tbody>\n",
       "    <tr>\n",
       "      <th>0</th>\n",
       "      <td>MC</td>\n",
       "      <td>1</td>\n",
       "      <td>NaTuRal</td>\n",
       "    </tr>\n",
       "    <tr>\n",
       "      <th>1</th>\n",
       "      <td>MC</td>\n",
       "      <td>0</td>\n",
       "      <td>Cure</td>\n",
       "    </tr>\n",
       "    <tr>\n",
       "      <th>2</th>\n",
       "      <td>MC</td>\n",
       "      <td>1</td>\n",
       "      <td>Journey</td>\n",
       "    </tr>\n",
       "    <tr>\n",
       "      <th>3</th>\n",
       "      <td>MC</td>\n",
       "      <td>0</td>\n",
       "      <td>Trust</td>\n",
       "    </tr>\n",
       "    <tr>\n",
       "      <th>4</th>\n",
       "      <td>MC</td>\n",
       "      <td>0</td>\n",
       "      <td>Billowy</td>\n",
       "    </tr>\n",
       "    <tr>\n",
       "      <th>...</th>\n",
       "      <td>...</td>\n",
       "      <td>...</td>\n",
       "      <td>...</td>\n",
       "    </tr>\n",
       "    <tr>\n",
       "      <th>94002</th>\n",
       "      <td>Keiras</td>\n",
       "      <td>0</td>\n",
       "      <td>Dragon</td>\n",
       "    </tr>\n",
       "    <tr>\n",
       "      <th>94003</th>\n",
       "      <td>Keiras</td>\n",
       "      <td>0</td>\n",
       "      <td>nExt</td>\n",
       "    </tr>\n",
       "    <tr>\n",
       "      <th>94004</th>\n",
       "      <td>Keiras</td>\n",
       "      <td>0</td>\n",
       "      <td>EJK</td>\n",
       "    </tr>\n",
       "    <tr>\n",
       "      <th>94005</th>\n",
       "      <td>Keiras</td>\n",
       "      <td>0</td>\n",
       "      <td>DeViL</td>\n",
       "    </tr>\n",
       "    <tr>\n",
       "      <th>94006</th>\n",
       "      <td>Keiras</td>\n",
       "      <td>0</td>\n",
       "      <td>HuK</td>\n",
       "    </tr>\n",
       "  </tbody>\n",
       "</table>\n",
       "<p>94007 rows × 3 columns</p>\n",
       "</div>"
      ],
      "text/plain": [
       "           p1  p1_outcome       p2\n",
       "0          MC           1  NaTuRal\n",
       "1          MC           0     Cure\n",
       "2          MC           1  Journey\n",
       "3          MC           0    Trust\n",
       "4          MC           0  Billowy\n",
       "...       ...         ...      ...\n",
       "94002  Keiras           0   Dragon\n",
       "94003  Keiras           0     nExt\n",
       "94004  Keiras           0      EJK\n",
       "94005  Keiras           0    DeViL\n",
       "94006  Keiras           0      HuK\n",
       "\n",
       "[94007 rows x 3 columns]"
      ]
     },
     "execution_count": 12,
     "metadata": {},
     "output_type": "execute_result"
    }
   ],
   "source": [
    "valid_data = load_data('valid.csv')\n",
    "valid_data"
   ]
  },
  {
   "cell_type": "code",
   "execution_count": 13,
   "metadata": {},
   "outputs": [],
   "source": [
    "playerid = {}\n",
    "for p in players:\n",
    "    playerid[p] = players[p].id\n",
    "    \n",
    "valid_data['p1'].replace(playerid,inplace=True)\n",
    "valid_data['p2'].replace(playerid,inplace=True)\n",
    "valid_games=[tuple((r[0],r[2],r[1])) for r in valid_data.to_numpy()]\n",
    "#valid_games"
   ]
  },
  {
   "cell_type": "code",
   "execution_count": 14,
   "metadata": {},
   "outputs": [],
   "source": [
    "def logit(z): return 1./(1.+np.exp(-z))\n",
    "def validate(fits, valid_games, n_games):\n",
    "    accuracy = []\n",
    "    for fit in fits:\n",
    "        samples = fits[fit].extract()\n",
    "        acc = 0\n",
    "        n = n_games\n",
    "        for g in [valid_games[i] for i in np.random.choice(len(valid_games), n, replace = False)]:\n",
    "            try:\n",
    "                i,j,result=int(g[0]),int(g[1]),int(g[2])\n",
    "            except:\n",
    "                n-=1\n",
    "                continue\n",
    "\n",
    "            prob = logit( skill_data['scale']*(samples['skill'][:,i-1]-samples['skill'][:,j-1]) ).mean()\n",
    "            pred = np.random.choice([0,1], p=[prob, 1-prob])\n",
    "            acc += (pred==result)\n",
    "        accuracy.append(acc/n)\n",
    "        print(fit, accuracy[-1], n)\n",
    "    return accuracy"
   ]
  },
  {
   "cell_type": "code",
   "execution_count": 15,
   "metadata": {
    "scrolled": true
   },
   "outputs": [
    {
     "name": "stdout",
     "output_type": "stream",
     "text": [
      "(1000, 4) 0.4084 10000\n"
     ]
    },
    {
     "data": {
      "text/plain": [
       "[0.4084]"
      ]
     },
     "execution_count": 15,
     "metadata": {},
     "output_type": "execute_result"
    }
   ],
   "source": [
    "accuracy = validate(fits, valid_games, 10000)\n",
    "accuracy"
   ]
  },
  {
   "cell_type": "code",
   "execution_count": null,
   "metadata": {},
   "outputs": [],
   "source": []
  }
 ],
 "metadata": {
  "kernelspec": {
   "display_name": "Python 3",
   "language": "python",
   "name": "python3"
  },
  "language_info": {
   "codemirror_mode": {
    "name": "ipython",
    "version": 3
   },
   "file_extension": ".py",
   "mimetype": "text/x-python",
   "name": "python",
   "nbconvert_exporter": "python",
   "pygments_lexer": "ipython3",
   "version": "3.7.3"
  }
 },
 "nbformat": 4,
 "nbformat_minor": 4
}
