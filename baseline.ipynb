{
 "cells": [
  {
   "cell_type": "code",
   "execution_count": 2,
   "metadata": {},
   "outputs": [],
   "source": [
    "import numpy as np \n",
    "import matplotlib.pyplot as plt\n",
    "import networkx as nx\n",
    "import csv\n",
    "import random\n",
    "import time\n",
    "import pystan\n",
    "import pandas as pd\n"
   ]
  },
  {
   "cell_type": "code",
   "execution_count": 3,
   "metadata": {},
   "outputs": [],
   "source": [
    "def logit(z): return 1./(1.+np.exp(-z))"
   ]
  },
  {
   "cell_type": "code",
   "execution_count": 21,
   "metadata": {},
   "outputs": [],
   "source": [
    "def convert_race(race):\n",
    "    if race == 'Z':\n",
    "        return 1\n",
    "    elif race == 'P':\n",
    "        return 2\n",
    "    elif race == 'T':\n",
    "        return 3\n",
    "    else:\n",
    "        return 4\n",
    "    \n",
    "\n",
    "def load_data_stan(file_name, pk=1, edge=3, nk=5):\n",
    "    with open(file_name, encoding='utf-8') as f: lines = f.read().split('\\n')\n",
    "    p = 0; playerid = {};\n",
    "    for i in range(len(lines)):\n",
    "        csv = lines[i].split(',')\n",
    "        if len(csv) != 10: continue   # parse error or blank line\n",
    "        player0,player1 = csv[1],csv[4]\n",
    "        if player0 not in playerid: playerid[player0]=p; p+=1\n",
    "        if player1 not in playerid: playerid[player1]=p; p+=1\n",
    "\n",
    "    nplayers = len(playerid)\n",
    "    playername = ['']*nplayers\n",
    "    for player in playerid:\n",
    "        playername[ playerid[player] ]=player;  # id to name lookup\n",
    "\n",
    "\n",
    "    pKeep = pk   # fraction of edges to consider (immed. throw out 1-p edges)\n",
    "    nEdge = edge     # try to keep nEdge opponents per player (may be more; asymmetric)\n",
    "    nKeep = nk     # keep at most nKeep games per opponent pairs (play each other multiple times)\n",
    "\n",
    "    count = 0\n",
    "    nplays, nwins = np.zeros( (nplayers,nplayers) ), np.zeros( (nplayers,nplayers) );\n",
    "    player_A = []\n",
    "    player_B = []\n",
    "    wins = []\n",
    "    RA = []\n",
    "    RB = []\n",
    "    for i in range(len(lines)):\n",
    "        csv = lines[i].split(',')\n",
    "        if len(csv) != 10: continue;   # parse error or blank line\n",
    "        a,b = playerid[csv[1]],playerid[csv[4]];\n",
    "        aw,bw = csv[2]=='[winner]',csv[5]=='[winner]';\n",
    "        if (np.random.rand() < pKeep):\n",
    "            if (nplays[a,b] < nKeep) and ( ((nplays[a,:]>0).sum() < nEdge) or ((nplays[:,b]>0).sum() < nEdge) ):\n",
    "                count += 1\n",
    "                nplays[a,b] += 1; nplays[b,a]+=1; nwins[a,b] += aw; nwins[b,a] += bw;\n",
    "                player_A.append(a+1)\n",
    "                player_B.append(b+1)\n",
    "                wins.append(aw)\n",
    "                RA.append(convert_race(csv[6]))\n",
    "                RB.append(convert_race(csv[7]))\n",
    "\n",
    "    win_re = []\n",
    "    for i in wins:\n",
    "        if i:\n",
    "            win_re.append(1)\n",
    "        else:\n",
    "            win_re.append(0)\n",
    "    return player_A,player_B,win_re,RA,RB, playerid, playername"
   ]
  },
  {
   "cell_type": "code",
   "execution_count": 28,
   "metadata": {},
   "outputs": [
    {
     "name": "stdout",
     "output_type": "stream",
     "text": [
      "2998\n",
      "7462\n",
      "17233\n",
      "35709\n",
      "73619\n",
      "129106\n",
      "177857\n",
      "192804\n",
      "193006\n"
     ]
    }
   ],
   "source": [
    "\n",
    "baseline = []\n",
    "for i in [2,4,8,16,32,64,128,256,512]:\n",
    "    player_A,player_B,win_re,RA,RB,playerid, playername = load_data_stan(\"train.csv\",1,i,100)\n",
    "    nplayers = len(set(player_A + player_B))\n",
    "    print(len(win_re))\n",
    "    baseline_win_rate = dict()\n",
    "    record = np.zeros( (nplayers,2) )\n",
    "    for j in range(len(win_re)):\n",
    "        record[player_A[j]-1][0] += 1\n",
    "        record[player_B[j]-1][0] += 1\n",
    "        if win_re == 1:\n",
    "            record[player_A[j]-1][1] += 1\n",
    "        else:\n",
    "            record[player_B[j]-1][1] += 1\n",
    "    for k in range(len(record)):\n",
    "        baseline_win_rate[k] = record[k][1]/record[k][0]\n",
    "    baseline.append(baseline_win_rate)\n",
    "    \n",
    "    \n",
    "        \n",
    "    \n"
   ]
  },
  {
   "cell_type": "code",
   "execution_count": 9,
   "metadata": {},
   "outputs": [
    {
     "name": "stdout",
     "output_type": "stream",
     "text": [
      "           p1  p1_outcome       p2 p1_race p2_race\n",
      "0          MC           1  NaTuRal       P       T\n",
      "1          MC           0     Cure       P       T\n",
      "2          MC           1  Journey       P       T\n",
      "3          MC           0    Trust       P       P\n",
      "4          MC           0  Billowy       P       P\n",
      "...       ...         ...      ...     ...     ...\n",
      "94002  Keiras           0   Dragon       Z       T\n",
      "94003  Keiras           0     nExt       Z       Z\n",
      "94004  Keiras           0      EJK       Z       T\n",
      "94005  Keiras           0    DeViL       Z       Z\n",
      "94006  Keiras           0      HuK       Z       P\n",
      "\n",
      "[94007 rows x 5 columns]\n"
     ]
    }
   ],
   "source": [
    "def load_data(file_name):\n",
    "    data=pd.read_csv(file_name,index_col=False,\n",
    "                     names=['date', 'p1', 'p1_outcome', 'score', 'p2', 'p2_outcome', 'p1_race', 'p2_race', 'addon', 'type'])\n",
    "    #drop other columns for now\n",
    "    data.drop(columns=['date','score','p2_outcome', 'addon', 'type'], inplace=True)\n",
    "    data['p1_outcome'].replace({\"[loser]\":0,\"[winner]\":1},inplace=True)\n",
    "    return data\n",
    "\n",
    "valid_data = load_data('valid.csv')\n",
    "print(valid_data)\n",
    "valid_data['p1'].replace(playerid,inplace=True)\n",
    "valid_data['p2'].replace(playerid,inplace=True)\n",
    "valid_games=[tuple((r[0],r[2],r[1],r[3],r[4])) for r in valid_data.to_numpy()]\n",
    "#valid_games"
   ]
  },
  {
   "cell_type": "code",
   "execution_count": 24,
   "metadata": {},
   "outputs": [],
   "source": [
    "def validate(baseline, valid_games, n_games):\n",
    "    accuracy = []\n",
    "    for d in baseline:\n",
    "        \n",
    "        acc = 0\n",
    "        n = n_games\n",
    "        #for g in valid_games[:n_games]:\n",
    "        for g in [valid_games[i] for i in np.random.choice(len(valid_games), n, replace = False)]:\n",
    "            try:\n",
    "                i,j,result,ra,rb=int(g[0]),int(g[1]),int(g[2]),convert_race(g[3]),convert_race(g[4])\n",
    "            except:\n",
    "                n-=1\n",
    "                continue\n",
    "            \n",
    "            prob = logit( 5*(d[i] - d[j]) )\n",
    "            pred_simulate = np.random.choice([1,0], p=[prob, 1-prob])\n",
    "            acc+= (pred_simulate==result)\n",
    "        accuracy.append(acc/n)\n",
    "    return accuracy\n"
   ]
  },
  {
   "cell_type": "code",
   "execution_count": 25,
   "metadata": {},
   "outputs": [],
   "source": [
    "accuracy = validate(baseline, valid_games, len(valid_games))"
   ]
  },
  {
   "cell_type": "code",
   "execution_count": 26,
   "metadata": {},
   "outputs": [
    {
     "data": {
      "text/plain": [
       "[0.4318082695969449,\n",
       " 0.4233089025285351,\n",
       " 0.4105226206559086,\n",
       " 0.4109268458731797,\n",
       " 0.4202878509047199,\n",
       " 0.4436265384492644,\n",
       " 0.4684757518057166,\n",
       " 0.4706032529492485,\n",
       " 0.47285840416139224]"
      ]
     },
     "execution_count": 26,
     "metadata": {},
     "output_type": "execute_result"
    }
   ],
   "source": [
    "accuracy"
   ]
  },
  {
   "cell_type": "code",
   "execution_count": 32,
   "metadata": {},
   "outputs": [
    {
     "data": {
      "text/plain": [
       "{1: [(0.5487, 0.5391)],\n",
       " 2: [(0.5927, 0.5607)],\n",
       " 4: [(0.6217, 0.5772)],\n",
       " 8: [(0.6497, 0.5961)],\n",
       " 16: [(0.6671, 0.6049)],\n",
       " 32: [(0.6828, 0.6091)],\n",
       " 64: [(0.6834, 0.6043)],\n",
       " 128: [(0.6818, 0.6087)]}"
      ]
     },
     "execution_count": 32,
     "metadata": {},
     "output_type": "execute_result"
    }
   ],
   "source": [
    "data_num = [2808,6608,14370,29739,60596,102716,127579]\n",
    "model_result = [0.5607,0.5772,0.5961,0.6049,0.6091,0.6043,0.6087]\n",
    "{1: [(0.5487, 0.5391)],\n",
    " 2: [(0.5927, 0.5607)],\n",
    " 4: [(0.6217, 0.5772)],\n",
    " 8: [(0.6497, 0.5961)],\n",
    " 16: [(0.6671, 0.6049)],\n",
    " 32: [(0.6828, 0.6091)],\n",
    " 64: [(0.6834, 0.6043)],\n",
    " 128: [(0.6818, 0.6087)]}"
   ]
  },
  {
   "cell_type": "code",
   "execution_count": 34,
   "metadata": {},
   "outputs": [
    {
     "data": {
      "image/png": "[encoded data removed]",
      "text/plain": [
       "<Figure size 720x360 with 1 Axes>"
      ]
     },
     "metadata": {
      "needs_background": "light"
     },
     "output_type": "display_data"
    }
   ],
   "source": [
    "import matplotlib.pyplot as plt\n",
    "\n",
    "\n",
    "plt.figure(figsize=(10,5))\n",
    "    \n",
    "       \n",
    "    \n",
    "plt.scatter(data_num, accuracy[1:8], marker='.' ,label = 'Baseline',linewidths=0.01)\n",
    "plt.errorbar(data_num, accuracy[1:8], capsize = 5)\n",
    "plt.scatter(data_num, model_result, marker='.' ,label = 'Stan model',linewidths=0.01)\n",
    "plt.errorbar(data_num,  model_result, capsize = 5)\n",
    "plt.title(\"Stan Model vs Baseline\")\n",
    "plt.legend()\n",
    "plt.show()"
   ]
  },
  {
   "cell_type": "code",
   "execution_count": null,
   "metadata": {},
   "outputs": [],
   "source": []
  }
 ],
 "metadata": {
  "kernelspec": {
   "display_name": "Python 3",
   "language": "python",
   "name": "python3"
  },
  "language_info": {
   "codemirror_mode": {
    "name": "ipython",
    "version": 3
   },
   "file_extension": ".py",
   "mimetype": "text/x-python",
   "name": "python",
   "nbconvert_exporter": "python",
   "pygments_lexer": "ipython3",
   "version": "3.7.4"
  }
 },
 "nbformat": 4,
 "nbformat_minor": 2
}
