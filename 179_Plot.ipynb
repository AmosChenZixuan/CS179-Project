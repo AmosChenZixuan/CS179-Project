{
 "cells": [
  {
   "cell_type": "code",
   "execution_count": null,
   "metadata": {},
   "outputs": [],
   "source": [
    "import numpy as np \n",
    "import matplotlib.pyplot as plt\n",
    "import  scipy\n",
    "def plot_result(d):\n",
    "    \n",
    "    M = np.array([d[k] for k in d])\n",
    "    x = np.array([k for k in d])\n",
    "    y = np.mean(M, axis = 1)\n",
    "    ystd = scipy.stats.sem(M, axis = 1)\n",
    "    print(ystd)\n",
    "    \n",
    "    plt.figure()\n",
    "    plt.scatter(x, y, color = 'black')\n",
    "    plt.errorbar(x, y, yerr = ystd, color = 'black', capsize = 5)\n",
    "    plt.show()"
   ]
  }
 ],
 "metadata": {
  "kernelspec": {
   "display_name": "Python 3",
   "language": "python",
   "name": "python3"
  },
  "language_info": {
   "codemirror_mode": {
    "name": "ipython",
    "version": 3
   },
   "file_extension": ".py",
   "mimetype": "text/x-python",
   "name": "python",
   "nbconvert_exporter": "python",
   "pygments_lexer": "ipython3",
   "version": "3.7.4"
  }
 },
 "nbformat": 4,
 "nbformat_minor": 2
}
